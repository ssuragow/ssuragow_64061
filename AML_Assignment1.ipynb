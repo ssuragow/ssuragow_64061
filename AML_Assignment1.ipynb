{
  "cells": [
    {
      "cell_type": "markdown",
      "metadata": {
        "id": "CdNg_ONqsYfZ"
      },
      "source": [
        "This is a companion notebook for the book [Deep Learning with Python, Second Edition](https://www.manning.com/books/deep-learning-with-python-second-edition?a_aid=keras&a_bid=76564dff). For readability, it only contains runnable code blocks and section titles, and omits everything else in the book: text paragraphs, figures, and pseudocode.\n",
        "\n",
        "**If you want to be able to follow what's going on, I recommend reading the notebook side by side with your copy of the book.**\n",
        "\n",
        "This notebook was generated for TensorFlow 2.6."
      ]
    },
    {
      "cell_type": "markdown",
      "source": [
        "Swathi Suragowni Ravindranath\n",
        "\n",
        "NEURAL NETWORKS_Assignment1\n",
        "\n",
        "\n",
        "\n",
        "\n"
      ],
      "metadata": {
        "id": "41WC9rabL7Zv"
      }
    },
    {
      "cell_type": "markdown",
      "metadata": {
        "id": "ySC_FxLksYfc"
      },
      "source": [
        "### The IMDB dataset"
      ]
    },
    {
      "cell_type": "markdown",
      "metadata": {
        "id": "1qLYDNjWsYfc"
      },
      "source": [
        "**Loading the IMDB dataset**"
      ]
    },
    {
      "cell_type": "code",
      "source": [
        "!pip install tensorflow\n"
      ],
      "metadata": {
        "colab": {
          "base_uri": "https://localhost:8080/"
        },
        "id": "zt2qIKpjswyR",
        "outputId": "bc777b4e-a81a-4ef4-9a0c-b53a5013edf0"
      },
      "execution_count": 35,
      "outputs": [
        {
          "output_type": "stream",
          "name": "stdout",
          "text": [
            "Looking in indexes: https://pypi.org/simple, https://us-python.pkg.dev/colab-wheels/public/simple/\n",
            "Requirement already satisfied: tensorflow in /usr/local/lib/python3.7/dist-packages (2.8.2+zzzcolab20220929150707)\n",
            "Requirement already satisfied: typing-extensions>=3.6.6 in /usr/local/lib/python3.7/dist-packages (from tensorflow) (4.1.1)\n",
            "Requirement already satisfied: wrapt>=1.11.0 in /usr/local/lib/python3.7/dist-packages (from tensorflow) (1.14.1)\n",
            "Requirement already satisfied: h5py>=2.9.0 in /usr/local/lib/python3.7/dist-packages (from tensorflow) (3.1.0)\n",
            "Requirement already satisfied: keras<2.9,>=2.8.0rc0 in /usr/local/lib/python3.7/dist-packages (from tensorflow) (2.8.0)\n",
            "Requirement already satisfied: libclang>=9.0.1 in /usr/local/lib/python3.7/dist-packages (from tensorflow) (14.0.6)\n",
            "Requirement already satisfied: protobuf<3.20,>=3.9.2 in /usr/local/lib/python3.7/dist-packages (from tensorflow) (3.17.3)\n",
            "Requirement already satisfied: six>=1.12.0 in /usr/local/lib/python3.7/dist-packages (from tensorflow) (1.15.0)\n",
            "Requirement already satisfied: flatbuffers>=1.12 in /usr/local/lib/python3.7/dist-packages (from tensorflow) (22.9.24)\n",
            "Requirement already satisfied: astunparse>=1.6.0 in /usr/local/lib/python3.7/dist-packages (from tensorflow) (1.6.3)\n",
            "Requirement already satisfied: tensorflow-io-gcs-filesystem>=0.23.1 in /usr/local/lib/python3.7/dist-packages (from tensorflow) (0.27.0)\n",
            "Requirement already satisfied: tensorflow-estimator<2.9,>=2.8 in /usr/local/lib/python3.7/dist-packages (from tensorflow) (2.8.0)\n",
            "Requirement already satisfied: absl-py>=0.4.0 in /usr/local/lib/python3.7/dist-packages (from tensorflow) (1.2.0)\n",
            "Requirement already satisfied: google-pasta>=0.1.1 in /usr/local/lib/python3.7/dist-packages (from tensorflow) (0.2.0)\n",
            "Requirement already satisfied: numpy>=1.20 in /usr/local/lib/python3.7/dist-packages (from tensorflow) (1.21.6)\n",
            "Requirement already satisfied: opt-einsum>=2.3.2 in /usr/local/lib/python3.7/dist-packages (from tensorflow) (3.3.0)\n",
            "Requirement already satisfied: grpcio<2.0,>=1.24.3 in /usr/local/lib/python3.7/dist-packages (from tensorflow) (1.49.1)\n",
            "Requirement already satisfied: gast>=0.2.1 in /usr/local/lib/python3.7/dist-packages (from tensorflow) (0.5.3)\n",
            "Requirement already satisfied: tensorboard<2.9,>=2.8 in /usr/local/lib/python3.7/dist-packages (from tensorflow) (2.8.0)\n",
            "Requirement already satisfied: termcolor>=1.1.0 in /usr/local/lib/python3.7/dist-packages (from tensorflow) (2.0.1)\n",
            "Requirement already satisfied: setuptools in /usr/local/lib/python3.7/dist-packages (from tensorflow) (57.4.0)\n",
            "Requirement already satisfied: keras-preprocessing>=1.1.1 in /usr/local/lib/python3.7/dist-packages (from tensorflow) (1.1.2)\n",
            "Requirement already satisfied: wheel<1.0,>=0.23.0 in /usr/local/lib/python3.7/dist-packages (from astunparse>=1.6.0->tensorflow) (0.37.1)\n",
            "Requirement already satisfied: cached-property in /usr/local/lib/python3.7/dist-packages (from h5py>=2.9.0->tensorflow) (1.5.2)\n",
            "Requirement already satisfied: werkzeug>=0.11.15 in /usr/local/lib/python3.7/dist-packages (from tensorboard<2.9,>=2.8->tensorflow) (1.0.1)\n",
            "Requirement already satisfied: tensorboard-plugin-wit>=1.6.0 in /usr/local/lib/python3.7/dist-packages (from tensorboard<2.9,>=2.8->tensorflow) (1.8.1)\n",
            "Requirement already satisfied: requests<3,>=2.21.0 in /usr/local/lib/python3.7/dist-packages (from tensorboard<2.9,>=2.8->tensorflow) (2.23.0)\n",
            "Requirement already satisfied: markdown>=2.6.8 in /usr/local/lib/python3.7/dist-packages (from tensorboard<2.9,>=2.8->tensorflow) (3.4.1)\n",
            "Requirement already satisfied: google-auth-oauthlib<0.5,>=0.4.1 in /usr/local/lib/python3.7/dist-packages (from tensorboard<2.9,>=2.8->tensorflow) (0.4.6)\n",
            "Requirement already satisfied: google-auth<3,>=1.6.3 in /usr/local/lib/python3.7/dist-packages (from tensorboard<2.9,>=2.8->tensorflow) (1.35.0)\n",
            "Requirement already satisfied: tensorboard-data-server<0.7.0,>=0.6.0 in /usr/local/lib/python3.7/dist-packages (from tensorboard<2.9,>=2.8->tensorflow) (0.6.1)\n",
            "Requirement already satisfied: cachetools<5.0,>=2.0.0 in /usr/local/lib/python3.7/dist-packages (from google-auth<3,>=1.6.3->tensorboard<2.9,>=2.8->tensorflow) (4.2.4)\n",
            "Requirement already satisfied: rsa<5,>=3.1.4 in /usr/local/lib/python3.7/dist-packages (from google-auth<3,>=1.6.3->tensorboard<2.9,>=2.8->tensorflow) (4.9)\n",
            "Requirement already satisfied: pyasn1-modules>=0.2.1 in /usr/local/lib/python3.7/dist-packages (from google-auth<3,>=1.6.3->tensorboard<2.9,>=2.8->tensorflow) (0.2.8)\n",
            "Requirement already satisfied: requests-oauthlib>=0.7.0 in /usr/local/lib/python3.7/dist-packages (from google-auth-oauthlib<0.5,>=0.4.1->tensorboard<2.9,>=2.8->tensorflow) (1.3.1)\n",
            "Requirement already satisfied: importlib-metadata>=4.4 in /usr/local/lib/python3.7/dist-packages (from markdown>=2.6.8->tensorboard<2.9,>=2.8->tensorflow) (5.0.0)\n",
            "Requirement already satisfied: zipp>=0.5 in /usr/local/lib/python3.7/dist-packages (from importlib-metadata>=4.4->markdown>=2.6.8->tensorboard<2.9,>=2.8->tensorflow) (3.8.1)\n",
            "Requirement already satisfied: pyasn1<0.5.0,>=0.4.6 in /usr/local/lib/python3.7/dist-packages (from pyasn1-modules>=0.2.1->google-auth<3,>=1.6.3->tensorboard<2.9,>=2.8->tensorflow) (0.4.8)\n",
            "Requirement already satisfied: urllib3!=1.25.0,!=1.25.1,<1.26,>=1.21.1 in /usr/local/lib/python3.7/dist-packages (from requests<3,>=2.21.0->tensorboard<2.9,>=2.8->tensorflow) (1.24.3)\n",
            "Requirement already satisfied: chardet<4,>=3.0.2 in /usr/local/lib/python3.7/dist-packages (from requests<3,>=2.21.0->tensorboard<2.9,>=2.8->tensorflow) (3.0.4)\n",
            "Requirement already satisfied: certifi>=2017.4.17 in /usr/local/lib/python3.7/dist-packages (from requests<3,>=2.21.0->tensorboard<2.9,>=2.8->tensorflow) (2022.9.24)\n",
            "Requirement already satisfied: idna<3,>=2.5 in /usr/local/lib/python3.7/dist-packages (from requests<3,>=2.21.0->tensorboard<2.9,>=2.8->tensorflow) (2.10)\n",
            "Requirement already satisfied: oauthlib>=3.0.0 in /usr/local/lib/python3.7/dist-packages (from requests-oauthlib>=0.7.0->google-auth-oauthlib<0.5,>=0.4.1->tensorboard<2.9,>=2.8->tensorflow) (3.2.1)\n"
          ]
        }
      ]
    },
    {
      "cell_type": "code",
      "source": [
        "!pip install keras\n"
      ],
      "metadata": {
        "colab": {
          "base_uri": "https://localhost:8080/"
        },
        "id": "Bwk0Euv1s4CN",
        "outputId": "72958d0a-7bba-42e8-cb5e-d31794694aec"
      },
      "execution_count": 36,
      "outputs": [
        {
          "output_type": "stream",
          "name": "stdout",
          "text": [
            "Looking in indexes: https://pypi.org/simple, https://us-python.pkg.dev/colab-wheels/public/simple/\n",
            "Requirement already satisfied: keras in /usr/local/lib/python3.7/dist-packages (2.8.0)\n"
          ]
        }
      ]
    },
    {
      "cell_type": "code",
      "execution_count": 34,
      "metadata": {
        "id": "M-yf7Sh9sYfd"
      },
      "outputs": [],
      "source": [
        "from tensorflow.keras.datasets import imdb\n",
        "(train_data, train_labels), (test_data, test_labels) = imdb.load_data(\n",
        "    num_words=10000)"
      ]
    },
    {
      "cell_type": "code",
      "execution_count": 37,
      "metadata": {
        "colab": {
          "base_uri": "https://localhost:8080/"
        },
        "id": "X1_g0ZONsYfe",
        "outputId": "6b8ff63e-3113-4b1d-8b97-9ae12ea61868"
      },
      "outputs": [
        {
          "output_type": "execute_result",
          "data": {
            "text/plain": [
              "[1,\n",
              " 14,\n",
              " 22,\n",
              " 16,\n",
              " 43,\n",
              " 530,\n",
              " 973,\n",
              " 1622,\n",
              " 1385,\n",
              " 65,\n",
              " 458,\n",
              " 4468,\n",
              " 66,\n",
              " 3941,\n",
              " 4,\n",
              " 173,\n",
              " 36,\n",
              " 256,\n",
              " 5,\n",
              " 25,\n",
              " 100,\n",
              " 43,\n",
              " 838,\n",
              " 112,\n",
              " 50,\n",
              " 670,\n",
              " 2,\n",
              " 9,\n",
              " 35,\n",
              " 480,\n",
              " 284,\n",
              " 5,\n",
              " 150,\n",
              " 4,\n",
              " 172,\n",
              " 112,\n",
              " 167,\n",
              " 2,\n",
              " 336,\n",
              " 385,\n",
              " 39,\n",
              " 4,\n",
              " 172,\n",
              " 4536,\n",
              " 1111,\n",
              " 17,\n",
              " 546,\n",
              " 38,\n",
              " 13,\n",
              " 447,\n",
              " 4,\n",
              " 192,\n",
              " 50,\n",
              " 16,\n",
              " 6,\n",
              " 147,\n",
              " 2025,\n",
              " 19,\n",
              " 14,\n",
              " 22,\n",
              " 4,\n",
              " 1920,\n",
              " 4613,\n",
              " 469,\n",
              " 4,\n",
              " 22,\n",
              " 71,\n",
              " 87,\n",
              " 12,\n",
              " 16,\n",
              " 43,\n",
              " 530,\n",
              " 38,\n",
              " 76,\n",
              " 15,\n",
              " 13,\n",
              " 1247,\n",
              " 4,\n",
              " 22,\n",
              " 17,\n",
              " 515,\n",
              " 17,\n",
              " 12,\n",
              " 16,\n",
              " 626,\n",
              " 18,\n",
              " 2,\n",
              " 5,\n",
              " 62,\n",
              " 386,\n",
              " 12,\n",
              " 8,\n",
              " 316,\n",
              " 8,\n",
              " 106,\n",
              " 5,\n",
              " 4,\n",
              " 2223,\n",
              " 5244,\n",
              " 16,\n",
              " 480,\n",
              " 66,\n",
              " 3785,\n",
              " 33,\n",
              " 4,\n",
              " 130,\n",
              " 12,\n",
              " 16,\n",
              " 38,\n",
              " 619,\n",
              " 5,\n",
              " 25,\n",
              " 124,\n",
              " 51,\n",
              " 36,\n",
              " 135,\n",
              " 48,\n",
              " 25,\n",
              " 1415,\n",
              " 33,\n",
              " 6,\n",
              " 22,\n",
              " 12,\n",
              " 215,\n",
              " 28,\n",
              " 77,\n",
              " 52,\n",
              " 5,\n",
              " 14,\n",
              " 407,\n",
              " 16,\n",
              " 82,\n",
              " 2,\n",
              " 8,\n",
              " 4,\n",
              " 107,\n",
              " 117,\n",
              " 5952,\n",
              " 15,\n",
              " 256,\n",
              " 4,\n",
              " 2,\n",
              " 7,\n",
              " 3766,\n",
              " 5,\n",
              " 723,\n",
              " 36,\n",
              " 71,\n",
              " 43,\n",
              " 530,\n",
              " 476,\n",
              " 26,\n",
              " 400,\n",
              " 317,\n",
              " 46,\n",
              " 7,\n",
              " 4,\n",
              " 2,\n",
              " 1029,\n",
              " 13,\n",
              " 104,\n",
              " 88,\n",
              " 4,\n",
              " 381,\n",
              " 15,\n",
              " 297,\n",
              " 98,\n",
              " 32,\n",
              " 2071,\n",
              " 56,\n",
              " 26,\n",
              " 141,\n",
              " 6,\n",
              " 194,\n",
              " 7486,\n",
              " 18,\n",
              " 4,\n",
              " 226,\n",
              " 22,\n",
              " 21,\n",
              " 134,\n",
              " 476,\n",
              " 26,\n",
              " 480,\n",
              " 5,\n",
              " 144,\n",
              " 30,\n",
              " 5535,\n",
              " 18,\n",
              " 51,\n",
              " 36,\n",
              " 28,\n",
              " 224,\n",
              " 92,\n",
              " 25,\n",
              " 104,\n",
              " 4,\n",
              " 226,\n",
              " 65,\n",
              " 16,\n",
              " 38,\n",
              " 1334,\n",
              " 88,\n",
              " 12,\n",
              " 16,\n",
              " 283,\n",
              " 5,\n",
              " 16,\n",
              " 4472,\n",
              " 113,\n",
              " 103,\n",
              " 32,\n",
              " 15,\n",
              " 16,\n",
              " 5345,\n",
              " 19,\n",
              " 178,\n",
              " 32]"
            ]
          },
          "metadata": {},
          "execution_count": 37
        }
      ],
      "source": [
        "train_data[0]"
      ]
    },
    {
      "cell_type": "code",
      "execution_count": 38,
      "metadata": {
        "colab": {
          "base_uri": "https://localhost:8080/"
        },
        "id": "9oJITrDUsYfe",
        "outputId": "b4b2a1af-6887-43de-f79b-df3595b3ee5b"
      },
      "outputs": [
        {
          "output_type": "execute_result",
          "data": {
            "text/plain": [
              "1"
            ]
          },
          "metadata": {},
          "execution_count": 38
        }
      ],
      "source": [
        "train_labels[0]"
      ]
    },
    {
      "cell_type": "code",
      "execution_count": 39,
      "metadata": {
        "colab": {
          "base_uri": "https://localhost:8080/"
        },
        "id": "N5NliGe1sYff",
        "outputId": "f768840a-9682-4429-e29e-39625f497f60"
      },
      "outputs": [
        {
          "output_type": "execute_result",
          "data": {
            "text/plain": [
              "9999"
            ]
          },
          "metadata": {},
          "execution_count": 39
        }
      ],
      "source": [
        "max([max(sequence) for sequence in train_data])"
      ]
    },
    {
      "cell_type": "markdown",
      "metadata": {
        "id": "4XUxRqTVsYff"
      },
      "source": [
        "**Decoding reviews back to text**"
      ]
    },
    {
      "cell_type": "code",
      "execution_count": 40,
      "metadata": {
        "id": "YBi_zj8DsYfg"
      },
      "outputs": [],
      "source": [
        "word_index = imdb.get_word_index()\n",
        "reverse_word_index = dict(\n",
        "    [(value, key) for (key, value) in word_index.items()])\n",
        "decoded_review = \" \".join(\n",
        "    [reverse_word_index.get(i - 3, \"?\") for i in train_data[0]])"
      ]
    },
    {
      "cell_type": "markdown",
      "metadata": {
        "id": "OJ4okkpJsYfg"
      },
      "source": [
        "### Preparing the data"
      ]
    },
    {
      "cell_type": "markdown",
      "metadata": {
        "id": "jJOAE9OYsYfg"
      },
      "source": [
        "**Encoding the integer sequences via multi-hot encoding**"
      ]
    },
    {
      "cell_type": "code",
      "execution_count": 41,
      "metadata": {
        "id": "Qt5h6W5KsYfh"
      },
      "outputs": [],
      "source": [
        "import numpy as np\n",
        "def vectorize_sequences(sequences, dimension=10000):\n",
        "    results = np.zeros((len(sequences), dimension))\n",
        "    for i, sequence in enumerate(sequences):\n",
        "        for j in sequence:\n",
        "            results[i, j] = 1.\n",
        "    return results\n",
        "x_train = vectorize_sequences(train_data)\n",
        "x_test = vectorize_sequences(test_data)"
      ]
    },
    {
      "cell_type": "code",
      "execution_count": 42,
      "metadata": {
        "colab": {
          "base_uri": "https://localhost:8080/"
        },
        "id": "uHah8ApasYfh",
        "outputId": "03f8f13a-b615-42b1-f1d0-b8cb71c8e8a9"
      },
      "outputs": [
        {
          "output_type": "execute_result",
          "data": {
            "text/plain": [
              "array([0., 1., 1., ..., 0., 0., 0.])"
            ]
          },
          "metadata": {},
          "execution_count": 42
        }
      ],
      "source": [
        "x_train[0]"
      ]
    },
    {
      "cell_type": "code",
      "execution_count": 43,
      "metadata": {
        "id": "yjVkD8e9sYfh"
      },
      "outputs": [],
      "source": [
        "y_train = np.asarray(train_labels).astype(\"float32\")\n",
        "y_test = np.asarray(test_labels).astype(\"float32\")"
      ]
    },
    {
      "cell_type": "code",
      "source": [
        "x_val = x_train[:10000]\n",
        "partial_x_train = x_train[10000:]\n",
        "y_val = y_train[:10000]\n",
        "partial_y_train = y_train[10000:]"
      ],
      "metadata": {
        "id": "TGPzL3uRtKUT"
      },
      "execution_count": 44,
      "outputs": []
    },
    {
      "cell_type": "markdown",
      "source": [
        "Step 1 :\n",
        "1.Sequential Three layered approach\n",
        "\n",
        "2.Replaced relu with tanh\n",
        "\n",
        "3.optimizers changed to adam and loss to mse and metrics == accuracy"
      ],
      "metadata": {
        "id": "ZvW28NgGtQJo"
      }
    },
    {
      "cell_type": "markdown",
      "metadata": {
        "id": "z9ZdpF5AsYfh"
      },
      "source": [
        "### Building your model"
      ]
    },
    {
      "cell_type": "markdown",
      "metadata": {
        "id": "UcIXNdEssYfh"
      },
      "source": [
        "**Model definition**"
      ]
    },
    {
      "cell_type": "code",
      "execution_count": 45,
      "metadata": {
        "id": "q-5hPc4KsYfi"
      },
      "outputs": [],
      "source": [
        "from tensorflow import keras\n",
        "from tensorflow.keras import layers\n",
        "from tensorflow.keras.layers import Dense\n",
        "\n",
        "model = keras.Sequential()\n",
        "model.add(Dense(16, activation=\"tanh\"))\n",
        "model.add(Dense(16, activation=\"tanh\"))\n",
        "model.add(Dense(1, activation=\"sigmoid\"))\n",
        "\n",
        "\n",
        "model.compile(optimizer=\"adam\",\n",
        "              loss=\"mean_squared_error\",\n",
        "              metrics=[\"accuracy\"])"
      ]
    },
    {
      "cell_type": "code",
      "source": [
        "history = model.fit(partial_x_train,\n",
        "                    partial_y_train,\n",
        "                    epochs=20,\n",
        "                    batch_size=512,\n",
        "                    validation_data=(x_val, y_val))"
      ],
      "metadata": {
        "colab": {
          "base_uri": "https://localhost:8080/"
        },
        "id": "4-OxNeGDtmuT",
        "outputId": "066066f6-7339-48bc-8ce5-cc6caa068688"
      },
      "execution_count": 46,
      "outputs": [
        {
          "output_type": "stream",
          "name": "stdout",
          "text": [
            "Epoch 1/20\n",
            "30/30 [==============================] - 2s 59ms/step - loss: 0.1747 - accuracy: 0.7811 - val_loss: 0.1182 - val_accuracy: 0.8584\n",
            "Epoch 2/20\n",
            "30/30 [==============================] - 1s 39ms/step - loss: 0.0823 - accuracy: 0.9067 - val_loss: 0.0890 - val_accuracy: 0.8839\n",
            "Epoch 3/20\n",
            "30/30 [==============================] - 1s 37ms/step - loss: 0.0531 - accuracy: 0.9419 - val_loss: 0.0833 - val_accuracy: 0.8857\n",
            "Epoch 4/20\n",
            "30/30 [==============================] - 1s 35ms/step - loss: 0.0381 - accuracy: 0.9620 - val_loss: 0.0834 - val_accuracy: 0.8854\n",
            "Epoch 5/20\n",
            "30/30 [==============================] - 1s 35ms/step - loss: 0.0278 - accuracy: 0.9757 - val_loss: 0.0858 - val_accuracy: 0.8825\n",
            "Epoch 6/20\n",
            "30/30 [==============================] - 1s 36ms/step - loss: 0.0210 - accuracy: 0.9833 - val_loss: 0.0892 - val_accuracy: 0.8788\n",
            "Epoch 7/20\n",
            "30/30 [==============================] - 1s 35ms/step - loss: 0.0166 - accuracy: 0.9877 - val_loss: 0.0935 - val_accuracy: 0.8758\n",
            "Epoch 8/20\n",
            "30/30 [==============================] - 1s 40ms/step - loss: 0.0129 - accuracy: 0.9908 - val_loss: 0.0942 - val_accuracy: 0.8771\n",
            "Epoch 9/20\n",
            "30/30 [==============================] - 1s 39ms/step - loss: 0.0104 - accuracy: 0.9925 - val_loss: 0.0971 - val_accuracy: 0.8751\n",
            "Epoch 10/20\n",
            "30/30 [==============================] - 1s 38ms/step - loss: 0.0088 - accuracy: 0.9936 - val_loss: 0.0990 - val_accuracy: 0.8735\n",
            "Epoch 11/20\n",
            "30/30 [==============================] - 1s 35ms/step - loss: 0.0075 - accuracy: 0.9943 - val_loss: 0.1013 - val_accuracy: 0.8719\n",
            "Epoch 12/20\n",
            "30/30 [==============================] - 1s 35ms/step - loss: 0.0067 - accuracy: 0.9947 - val_loss: 0.1017 - val_accuracy: 0.8718\n",
            "Epoch 13/20\n",
            "30/30 [==============================] - 1s 35ms/step - loss: 0.0060 - accuracy: 0.9953 - val_loss: 0.1030 - val_accuracy: 0.8715\n",
            "Epoch 14/20\n",
            "30/30 [==============================] - 1s 38ms/step - loss: 0.0055 - accuracy: 0.9955 - val_loss: 0.1038 - val_accuracy: 0.8706\n",
            "Epoch 15/20\n",
            "30/30 [==============================] - 1s 35ms/step - loss: 0.0051 - accuracy: 0.9957 - val_loss: 0.1053 - val_accuracy: 0.8712\n",
            "Epoch 16/20\n",
            "30/30 [==============================] - 1s 36ms/step - loss: 0.0047 - accuracy: 0.9961 - val_loss: 0.1056 - val_accuracy: 0.8687\n",
            "Epoch 17/20\n",
            "30/30 [==============================] - 1s 35ms/step - loss: 0.0045 - accuracy: 0.9961 - val_loss: 0.1064 - val_accuracy: 0.8692\n",
            "Epoch 18/20\n",
            "30/30 [==============================] - 1s 35ms/step - loss: 0.0043 - accuracy: 0.9962 - val_loss: 0.1074 - val_accuracy: 0.8688\n",
            "Epoch 19/20\n",
            "30/30 [==============================] - 1s 35ms/step - loss: 0.0041 - accuracy: 0.9963 - val_loss: 0.1082 - val_accuracy: 0.8681\n",
            "Epoch 20/20\n",
            "30/30 [==============================] - 1s 35ms/step - loss: 0.0040 - accuracy: 0.9964 - val_loss: 0.1088 - val_accuracy: 0.8682\n"
          ]
        }
      ]
    },
    {
      "cell_type": "markdown",
      "metadata": {
        "id": "a0Snz57fsYfi"
      },
      "source": [
        "**Compiling the model**"
      ]
    },
    {
      "cell_type": "markdown",
      "metadata": {
        "id": "DhRNj2B_sYfk"
      },
      "source": [
        "**Plotting the training and validation loss**"
      ]
    },
    {
      "cell_type": "code",
      "execution_count": 51,
      "metadata": {
        "colab": {
          "base_uri": "https://localhost:8080/",
          "height": 295
        },
        "id": "4Totl9Q5sYfk",
        "outputId": "decc3ec6-bb76-413e-c0db-b5d8019117d1"
      },
      "outputs": [
        {
          "output_type": "display_data",
          "data": {
            "text/plain": [
              "<Figure size 432x288 with 1 Axes>"
            ],
            "image/png": "[encoded data removed]"
          },
          "metadata": {
            "needs_background": "light"
          }
        }
      ],
      "source": [
        "import matplotlib.pyplot as plt\n",
        "history_dict = history.history\n",
        "loss_values = history_dict[\"loss\"]\n",
        "val_loss_values = history_dict[\"val_loss\"]\n",
        "epochs = range(1, len(loss_values) + 1)\n",
        "plt.clf()\n",
        "acc = history_dict[\"accuracy\"]\n",
        "val_acc = history_dict[\"val_accuracy\"]\n",
        "plt.plot(epochs, acc, \"bo\", label=\"Training acc\")\n",
        "plt.plot(epochs, val_acc, \"b\", label=\"Validation acc\")\n",
        "plt.title(\"Training and validation accuracy\")\n",
        "plt.xlabel(\"Epochs\")\n",
        "plt.ylabel(\"Accuracy\")\n",
        "plt.legend()\n",
        "plt.show()"
      ]
    },
    {
      "cell_type": "markdown",
      "metadata": {
        "id": "BawhReD8sYfk"
      },
      "source": [
        "**Plotting the training and validation accuracy**"
      ]
    },
    {
      "cell_type": "markdown",
      "metadata": {
        "id": "QqZiVOwRsYfl"
      },
      "source": [
        "**Retraining a model from scratch**"
      ]
    },
    {
      "cell_type": "code",
      "execution_count": 52,
      "metadata": {
        "colab": {
          "base_uri": "https://localhost:8080/"
        },
        "id": "pdSFr3cosYfl",
        "outputId": "7f6384e7-ab86-47be-f494-aa0f8c194e74"
      },
      "outputs": [
        {
          "output_type": "stream",
          "name": "stdout",
          "text": [
            "Epoch 1/30\n",
            "30/30 [==============================] - 3s 94ms/step - loss: 0.1604 - accuracy: 0.7727 - val_loss: 0.1056 - val_accuracy: 0.8636\n",
            "Epoch 2/30\n",
            "30/30 [==============================] - 2s 57ms/step - loss: 0.0731 - accuracy: 0.9092 - val_loss: 0.0874 - val_accuracy: 0.8889\n",
            "Epoch 3/30\n",
            "30/30 [==============================] - 3s 96ms/step - loss: 0.0523 - accuracy: 0.9402 - val_loss: 0.0925 - val_accuracy: 0.8840\n",
            "Epoch 4/30\n",
            "30/30 [==============================] - 2s 56ms/step - loss: 0.0415 - accuracy: 0.9554 - val_loss: 0.0982 - val_accuracy: 0.8813\n",
            "Epoch 5/30\n",
            "30/30 [==============================] - 2s 57ms/step - loss: 0.0347 - accuracy: 0.9639 - val_loss: 0.1034 - val_accuracy: 0.8781\n",
            "Epoch 6/30\n",
            "30/30 [==============================] - 2s 57ms/step - loss: 0.0301 - accuracy: 0.9704 - val_loss: 0.1080 - val_accuracy: 0.8748\n",
            "Epoch 7/30\n",
            "30/30 [==============================] - 2s 77ms/step - loss: 0.0269 - accuracy: 0.9729 - val_loss: 0.1114 - val_accuracy: 0.8723\n",
            "Epoch 8/30\n",
            "30/30 [==============================] - 3s 96ms/step - loss: 0.0255 - accuracy: 0.9759 - val_loss: 0.1154 - val_accuracy: 0.8700\n",
            "Epoch 9/30\n",
            "30/30 [==============================] - 2s 62ms/step - loss: 0.0234 - accuracy: 0.9791 - val_loss: 0.1160 - val_accuracy: 0.8718\n",
            "Epoch 10/30\n",
            "30/30 [==============================] - 2s 56ms/step - loss: 0.0231 - accuracy: 0.9795 - val_loss: 0.1182 - val_accuracy: 0.8706\n",
            "Epoch 11/30\n",
            "30/30 [==============================] - 2s 57ms/step - loss: 0.0228 - accuracy: 0.9793 - val_loss: 0.1202 - val_accuracy: 0.8696\n",
            "Epoch 12/30\n",
            "30/30 [==============================] - 2s 60ms/step - loss: 0.0216 - accuracy: 0.9806 - val_loss: 0.1217 - val_accuracy: 0.8682\n",
            "Epoch 13/30\n",
            "30/30 [==============================] - 2s 56ms/step - loss: 0.0217 - accuracy: 0.9809 - val_loss: 0.1226 - val_accuracy: 0.8669\n",
            "Epoch 14/30\n",
            "30/30 [==============================] - 2s 57ms/step - loss: 0.0209 - accuracy: 0.9822 - val_loss: 0.1242 - val_accuracy: 0.8652\n",
            "Epoch 15/30\n",
            "30/30 [==============================] - 2s 57ms/step - loss: 0.0191 - accuracy: 0.9845 - val_loss: 0.1238 - val_accuracy: 0.8674\n",
            "Epoch 16/30\n",
            "30/30 [==============================] - 2s 57ms/step - loss: 0.0207 - accuracy: 0.9817 - val_loss: 0.1261 - val_accuracy: 0.8664\n",
            "Epoch 17/30\n",
            "30/30 [==============================] - 2s 57ms/step - loss: 0.0191 - accuracy: 0.9842 - val_loss: 0.1273 - val_accuracy: 0.8660\n",
            "Epoch 18/30\n",
            "30/30 [==============================] - 2s 58ms/step - loss: 0.0180 - accuracy: 0.9859 - val_loss: 0.1271 - val_accuracy: 0.8663\n",
            "Epoch 19/30\n",
            "30/30 [==============================] - 2s 57ms/step - loss: 0.0177 - accuracy: 0.9862 - val_loss: 0.1270 - val_accuracy: 0.8675\n",
            "Epoch 20/30\n",
            "30/30 [==============================] - 2s 56ms/step - loss: 0.0181 - accuracy: 0.9857 - val_loss: 0.1280 - val_accuracy: 0.8663\n",
            "Epoch 21/30\n",
            "30/30 [==============================] - 2s 57ms/step - loss: 0.0181 - accuracy: 0.9857 - val_loss: 0.1275 - val_accuracy: 0.8667\n",
            "Epoch 22/30\n",
            "30/30 [==============================] - 2s 56ms/step - loss: 0.0188 - accuracy: 0.9847 - val_loss: 0.1363 - val_accuracy: 0.8565\n",
            "Epoch 23/30\n",
            "30/30 [==============================] - 2s 57ms/step - loss: 0.0187 - accuracy: 0.9841 - val_loss: 0.1280 - val_accuracy: 0.8677\n",
            "Epoch 24/30\n",
            "30/30 [==============================] - 2s 57ms/step - loss: 0.0202 - accuracy: 0.9827 - val_loss: 0.1275 - val_accuracy: 0.8666\n",
            "Epoch 25/30\n",
            "30/30 [==============================] - 2s 56ms/step - loss: 0.0171 - accuracy: 0.9869 - val_loss: 0.1287 - val_accuracy: 0.8652\n",
            "Epoch 26/30\n",
            "30/30 [==============================] - 2s 57ms/step - loss: 0.0171 - accuracy: 0.9865 - val_loss: 0.1277 - val_accuracy: 0.8681\n",
            "Epoch 27/30\n",
            "30/30 [==============================] - 2s 56ms/step - loss: 0.0165 - accuracy: 0.9873 - val_loss: 0.1288 - val_accuracy: 0.8669\n",
            "Epoch 28/30\n",
            "30/30 [==============================] - 2s 57ms/step - loss: 0.0172 - accuracy: 0.9866 - val_loss: 0.1281 - val_accuracy: 0.8677\n",
            "Epoch 29/30\n",
            "30/30 [==============================] - 2s 57ms/step - loss: 0.0171 - accuracy: 0.9867 - val_loss: 0.1306 - val_accuracy: 0.8646\n",
            "Epoch 30/30\n",
            "30/30 [==============================] - 2s 57ms/step - loss: 0.0167 - accuracy: 0.9869 - val_loss: 0.1319 - val_accuracy: 0.8633\n"
          ]
        }
      ],
      "source": [
        "# Step 2 \n",
        "\n",
        "### implement dropouts and Regularizers\n",
        "### check performance by changing the dense layers to 64 hidden units\n",
        "\n",
        "from tensorflow.keras.layers import Dropout\n",
        "from tensorflow.keras import regularizers\n",
        "\n",
        "\n",
        "model = keras.Sequential()\n",
        "model.add(Dense(64, activation=\"tanh\"))\n",
        "model.add(Dropout(0.5))\n",
        "model.add(Dense(64, activation=\"tanh\"))\n",
        "model.add(Dropout(0.5))\n",
        "model.add(Dense(64, activation=\"tanh\"))\n",
        "model.add(Dense(1, activation=\"sigmoid\",activity_regularizer=regularizers.L2(0.01)))\n",
        "\n",
        "\n",
        "model.compile(optimizer=\"adam\",\n",
        "              loss=\"mean_squared_error\",\n",
        "              metrics=[\"accuracy\"])\n",
        "\n",
        "history = model.fit(partial_x_train,\n",
        "                    partial_y_train,\n",
        "                    epochs=30,\n",
        "                    batch_size=512,\n",
        "                    validation_data=(x_val, y_val))"
      ]
    },
    {
      "cell_type": "code",
      "source": [
        "\n",
        "history_dict = history.history\n",
        "history_dict.keys()"
      ],
      "metadata": {
        "colab": {
          "base_uri": "https://localhost:8080/"
        },
        "id": "wxhUs6YvvIp6",
        "outputId": "4fd3e3c1-d718-405e-f855-e359c3e7472a"
      },
      "execution_count": 53,
      "outputs": [
        {
          "output_type": "execute_result",
          "data": {
            "text/plain": [
              "dict_keys(['loss', 'accuracy', 'val_loss', 'val_accuracy'])"
            ]
          },
          "metadata": {},
          "execution_count": 53
        }
      ]
    },
    {
      "cell_type": "code",
      "source": [
        "import matplotlib.pyplot as plt\n",
        "history_dict = history.history\n",
        "loss_values = history_dict[\"loss\"]\n",
        "val_loss_values = history_dict[\"val_loss\"]\n",
        "epochs = range(1, len(loss_values) + 1)\n",
        "plt.plot(epochs, loss_values, \"bo\", label=\"Training loss\")\n",
        "plt.plot(epochs, val_loss_values, \"b\", label=\"Validation loss\")\n",
        "plt.title(\"Training and validation loss\")\n",
        "plt.xlabel(\"Epochs\")\n",
        "plt.ylabel(\"Loss\")\n",
        "plt.legend()\n",
        "plt.show()"
      ],
      "metadata": {
        "colab": {
          "base_uri": "https://localhost:8080/",
          "height": 295
        },
        "id": "UzXFurdJvON6",
        "outputId": "21204428-4189-4280-ba86-68dbfb12b3aa"
      },
      "execution_count": 54,
      "outputs": [
        {
          "output_type": "display_data",
          "data": {
            "text/plain": [
              "<Figure size 432x288 with 1 Axes>"
            ],
            "image/png": "[encoded data removed]"
          },
          "metadata": {
            "needs_background": "light"
          }
        }
      ]
    },
    {
      "cell_type": "code",
      "source": [
        "plt.clf()\n",
        "acc = history_dict[\"accuracy\"]\n",
        "val_acc = history_dict[\"val_accuracy\"]\n",
        "plt.plot(epochs, acc, \"bo\", label=\"Training acc\")\n",
        "plt.plot(epochs, val_acc, \"b\", label=\"Validation acc\")\n",
        "plt.title(\"Training and validation accuracy\")\n",
        "plt.xlabel(\"Epochs\")\n",
        "plt.ylabel(\"Accuracy\")\n",
        "plt.legend()\n",
        "plt.show()"
      ],
      "metadata": {
        "colab": {
          "base_uri": "https://localhost:8080/",
          "height": 295
        },
        "id": "ni942LgmvRQM",
        "outputId": "8e51e679-f248-474d-ebdd-9304df9a32dc"
      },
      "execution_count": 55,
      "outputs": [
        {
          "output_type": "display_data",
          "data": {
            "text/plain": [
              "<Figure size 432x288 with 1 Axes>"
            ],
            "image/png": "[encoded data removed]"
          },
          "metadata": {
            "needs_background": "light"
          }
        }
      ]
    },
    {
      "cell_type": "code",
      "source": [
        "from tensorflow.keras.layers import Dropout\n",
        "from tensorflow.keras import regularizers\n",
        "\n",
        "\n",
        "model = keras.Sequential()\n",
        "model.add(Dense(64, activation=\"tanh\"))\n",
        "model.add(Dropout(0.5))\n",
        "model.add(Dense(64, activation=\"tanh\"))\n",
        "model.add(Dense(64, activation=\"tanh\"))\n",
        "model.add(Dense(64, activation=\"tanh\",activity_regularizer=regularizers.L2(0.01)))\n",
        "model.add(Dropout(0.5))\n",
        "model.add(Dense(64, activation=\"tanh\"))\n",
        "model.add(Dense(64, activation=\"tanh\"))\n",
        "model.add(Dense(1, activation=\"sigmoid\"))\n",
        "\n",
        "\n",
        "model.compile(optimizer=\"adam\",\n",
        "              loss=\"mean_squared_error\",\n",
        "              metrics=[\"accuracy\"])\n",
        "\n"
      ],
      "metadata": {
        "colab": {
          "base_uri": "https://localhost:8080/"
        },
        "id": "AXW6wwSRvW_0",
        "outputId": "27bb5575-a1c8-4e06-e706-f82cd76c51ea"
      },
      "execution_count": 56,
      "outputs": [
        {
          "output_type": "stream",
          "name": "stdout",
          "text": [
            "Epoch 1/30\n",
            "30/30 [==============================] - 4s 115ms/step - loss: 0.1743 - accuracy: 0.7849 - val_loss: 0.1060 - val_accuracy: 0.8796\n",
            "Epoch 2/30\n",
            "30/30 [==============================] - 2s 59ms/step - loss: 0.0863 - accuracy: 0.9118 - val_loss: 0.0977 - val_accuracy: 0.8843\n",
            "Epoch 3/30\n",
            "30/30 [==============================] - 2s 58ms/step - loss: 0.0617 - accuracy: 0.9363 - val_loss: 0.0981 - val_accuracy: 0.8821\n",
            "Epoch 4/30\n",
            "30/30 [==============================] - 2s 60ms/step - loss: 0.0495 - accuracy: 0.9501 - val_loss: 0.1007 - val_accuracy: 0.8780\n",
            "Epoch 5/30\n",
            "30/30 [==============================] - 2s 59ms/step - loss: 0.0422 - accuracy: 0.9563 - val_loss: 0.1038 - val_accuracy: 0.8718\n",
            "Epoch 6/30\n",
            "30/30 [==============================] - 2s 59ms/step - loss: 0.0349 - accuracy: 0.9667 - val_loss: 0.1232 - val_accuracy: 0.8539\n",
            "Epoch 7/30\n",
            "30/30 [==============================] - 2s 58ms/step - loss: 0.0334 - accuracy: 0.9653 - val_loss: 0.1107 - val_accuracy: 0.8693\n",
            "Epoch 8/30\n",
            "30/30 [==============================] - 2s 59ms/step - loss: 0.0280 - accuracy: 0.9726 - val_loss: 0.1157 - val_accuracy: 0.8680\n",
            "Epoch 9/30\n",
            "30/30 [==============================] - 2s 61ms/step - loss: 0.0255 - accuracy: 0.9748 - val_loss: 0.1211 - val_accuracy: 0.8615\n",
            "Epoch 10/30\n",
            "30/30 [==============================] - 2s 59ms/step - loss: 0.0252 - accuracy: 0.9739 - val_loss: 0.1181 - val_accuracy: 0.8686\n",
            "Epoch 11/30\n",
            "30/30 [==============================] - 2s 59ms/step - loss: 0.0247 - accuracy: 0.9746 - val_loss: 0.1165 - val_accuracy: 0.8704\n",
            "Epoch 12/30\n",
            "30/30 [==============================] - 2s 59ms/step - loss: 0.0223 - accuracy: 0.9778 - val_loss: 0.1189 - val_accuracy: 0.8674\n",
            "Epoch 13/30\n",
            "30/30 [==============================] - 2s 59ms/step - loss: 0.0194 - accuracy: 0.9816 - val_loss: 0.1194 - val_accuracy: 0.8672\n",
            "Epoch 14/30\n",
            "30/30 [==============================] - 2s 59ms/step - loss: 0.0188 - accuracy: 0.9821 - val_loss: 0.1218 - val_accuracy: 0.8669\n",
            "Epoch 15/30\n",
            "30/30 [==============================] - 2s 61ms/step - loss: 0.0184 - accuracy: 0.9821 - val_loss: 0.1227 - val_accuracy: 0.8654\n",
            "Epoch 16/30\n",
            "30/30 [==============================] - 2s 59ms/step - loss: 0.0187 - accuracy: 0.9815 - val_loss: 0.1261 - val_accuracy: 0.8619\n",
            "Epoch 17/30\n",
            "30/30 [==============================] - 2s 58ms/step - loss: 0.0172 - accuracy: 0.9832 - val_loss: 0.1212 - val_accuracy: 0.8668\n",
            "Epoch 18/30\n",
            "30/30 [==============================] - 2s 59ms/step - loss: 0.0164 - accuracy: 0.9841 - val_loss: 0.1239 - val_accuracy: 0.8660\n",
            "Epoch 19/30\n",
            "30/30 [==============================] - 2s 59ms/step - loss: 0.0169 - accuracy: 0.9833 - val_loss: 0.1294 - val_accuracy: 0.8617\n",
            "Epoch 20/30\n",
            "30/30 [==============================] - 2s 60ms/step - loss: 0.0165 - accuracy: 0.9835 - val_loss: 0.1307 - val_accuracy: 0.8609\n",
            "Epoch 21/30\n",
            "30/30 [==============================] - 2s 59ms/step - loss: 0.0157 - accuracy: 0.9847 - val_loss: 0.1303 - val_accuracy: 0.8615\n",
            "Epoch 22/30\n",
            "30/30 [==============================] - 2s 59ms/step - loss: 0.0161 - accuracy: 0.9843 - val_loss: 0.1331 - val_accuracy: 0.8600\n",
            "Epoch 23/30\n",
            "30/30 [==============================] - 2s 59ms/step - loss: 0.0159 - accuracy: 0.9839 - val_loss: 0.1309 - val_accuracy: 0.8594\n",
            "Epoch 24/30\n",
            "30/30 [==============================] - 2s 58ms/step - loss: 0.0161 - accuracy: 0.9841 - val_loss: 0.1308 - val_accuracy: 0.8619\n",
            "Epoch 25/30\n",
            "30/30 [==============================] - 2s 59ms/step - loss: 0.0149 - accuracy: 0.9853 - val_loss: 0.1292 - val_accuracy: 0.8626\n",
            "Epoch 26/30\n",
            "30/30 [==============================] - 2s 59ms/step - loss: 0.0144 - accuracy: 0.9859 - val_loss: 0.1327 - val_accuracy: 0.8582\n",
            "Epoch 27/30\n",
            "30/30 [==============================] - 2s 60ms/step - loss: 0.0139 - accuracy: 0.9864 - val_loss: 0.1320 - val_accuracy: 0.8593\n",
            "Epoch 28/30\n",
            "30/30 [==============================] - 2s 59ms/step - loss: 0.0144 - accuracy: 0.9862 - val_loss: 0.1297 - val_accuracy: 0.8618\n",
            "Epoch 29/30\n",
            "30/30 [==============================] - 2s 59ms/step - loss: 0.0135 - accuracy: 0.9874 - val_loss: 0.1381 - val_accuracy: 0.8554\n",
            "Epoch 30/30\n",
            "30/30 [==============================] - 2s 59ms/step - loss: 0.0153 - accuracy: 0.9854 - val_loss: 0.1326 - val_accuracy: 0.8609\n"
          ]
        }
      ]
    },
    {
      "cell_type": "code",
      "source": [
        "history = model.fit(partial_x_train,\n",
        "                    partial_y_train,\n",
        "                    epochs=30,\n",
        "                    batch_size=512,\n",
        "                    validation_data=(x_val, y_val))"
      ],
      "metadata": {
        "colab": {
          "base_uri": "https://localhost:8080/"
        },
        "id": "c5t7zpRADLLI",
        "outputId": "9be5059c-813c-48f2-d30f-f861e3cfc3a0"
      },
      "execution_count": 58,
      "outputs": [
        {
          "output_type": "stream",
          "name": "stdout",
          "text": [
            "Epoch 1/30\n",
            "30/30 [==============================] - 3s 91ms/step - loss: 0.0130 - accuracy: 0.9875 - val_loss: 0.1364 - val_accuracy: 0.8576\n",
            "Epoch 2/30\n",
            "30/30 [==============================] - 2s 59ms/step - loss: 0.0136 - accuracy: 0.9871 - val_loss: 0.1327 - val_accuracy: 0.8604\n",
            "Epoch 3/30\n",
            "30/30 [==============================] - 2s 61ms/step - loss: 0.0129 - accuracy: 0.9879 - val_loss: 0.1353 - val_accuracy: 0.8572\n",
            "Epoch 4/30\n",
            "30/30 [==============================] - 2s 59ms/step - loss: 0.0151 - accuracy: 0.9853 - val_loss: 0.1334 - val_accuracy: 0.8588\n",
            "Epoch 5/30\n",
            "30/30 [==============================] - 2s 59ms/step - loss: 0.0126 - accuracy: 0.9876 - val_loss: 0.1297 - val_accuracy: 0.8634\n",
            "Epoch 6/30\n",
            "30/30 [==============================] - 2s 58ms/step - loss: 0.0137 - accuracy: 0.9867 - val_loss: 0.1312 - val_accuracy: 0.8605\n",
            "Epoch 7/30\n",
            "30/30 [==============================] - 2s 58ms/step - loss: 0.0133 - accuracy: 0.9870 - val_loss: 0.1336 - val_accuracy: 0.8608\n",
            "Epoch 8/30\n",
            "30/30 [==============================] - 2s 59ms/step - loss: 0.0121 - accuracy: 0.9883 - val_loss: 0.1325 - val_accuracy: 0.8615\n",
            "Epoch 9/30\n",
            "30/30 [==============================] - 2s 59ms/step - loss: 0.0125 - accuracy: 0.9877 - val_loss: 0.1346 - val_accuracy: 0.8589\n",
            "Epoch 10/30\n",
            "30/30 [==============================] - 2s 58ms/step - loss: 0.0129 - accuracy: 0.9873 - val_loss: 0.1359 - val_accuracy: 0.8573\n",
            "Epoch 11/30\n",
            "30/30 [==============================] - 2s 58ms/step - loss: 0.0126 - accuracy: 0.9882 - val_loss: 0.1313 - val_accuracy: 0.8633\n",
            "Epoch 12/30\n",
            "30/30 [==============================] - 2s 58ms/step - loss: 0.0131 - accuracy: 0.9879 - val_loss: 0.1305 - val_accuracy: 0.8642\n",
            "Epoch 13/30\n",
            "30/30 [==============================] - 2s 59ms/step - loss: 0.0127 - accuracy: 0.9880 - val_loss: 0.1316 - val_accuracy: 0.8635\n",
            "Epoch 14/30\n",
            "30/30 [==============================] - 2s 58ms/step - loss: 0.0131 - accuracy: 0.9879 - val_loss: 0.1347 - val_accuracy: 0.8596\n",
            "Epoch 15/30\n",
            "30/30 [==============================] - 2s 58ms/step - loss: 0.0136 - accuracy: 0.9870 - val_loss: 0.1344 - val_accuracy: 0.8595\n",
            "Epoch 16/30\n",
            "30/30 [==============================] - 2s 58ms/step - loss: 0.0129 - accuracy: 0.9877 - val_loss: 0.1362 - val_accuracy: 0.8598\n",
            "Epoch 17/30\n",
            "30/30 [==============================] - 2s 59ms/step - loss: 0.0133 - accuracy: 0.9872 - val_loss: 0.1369 - val_accuracy: 0.8596\n",
            "Epoch 18/30\n",
            "30/30 [==============================] - 2s 59ms/step - loss: 0.0154 - accuracy: 0.9879 - val_loss: 0.1421 - val_accuracy: 0.8607\n",
            "Epoch 19/30\n",
            "30/30 [==============================] - 2s 58ms/step - loss: 0.0137 - accuracy: 0.9883 - val_loss: 0.1404 - val_accuracy: 0.8564\n",
            "Epoch 20/30\n",
            "30/30 [==============================] - 2s 59ms/step - loss: 0.0131 - accuracy: 0.9875 - val_loss: 0.1348 - val_accuracy: 0.8605\n",
            "Epoch 21/30\n",
            "30/30 [==============================] - 2s 59ms/step - loss: 0.0149 - accuracy: 0.9853 - val_loss: 0.1339 - val_accuracy: 0.8618\n",
            "Epoch 22/30\n",
            "30/30 [==============================] - 2s 58ms/step - loss: 0.0131 - accuracy: 0.9872 - val_loss: 0.1304 - val_accuracy: 0.8636\n",
            "Epoch 23/30\n",
            "30/30 [==============================] - 2s 57ms/step - loss: 0.0121 - accuracy: 0.9884 - val_loss: 0.1350 - val_accuracy: 0.8600\n",
            "Epoch 24/30\n",
            "30/30 [==============================] - 2s 57ms/step - loss: 0.0111 - accuracy: 0.9891 - val_loss: 0.1362 - val_accuracy: 0.8597\n",
            "Epoch 25/30\n",
            "30/30 [==============================] - 2s 57ms/step - loss: 0.0125 - accuracy: 0.9893 - val_loss: 0.1389 - val_accuracy: 0.8581\n",
            "Epoch 26/30\n",
            "30/30 [==============================] - 2s 57ms/step - loss: 0.0115 - accuracy: 0.9894 - val_loss: 0.1350 - val_accuracy: 0.8611\n",
            "Epoch 27/30\n",
            "30/30 [==============================] - 2s 57ms/step - loss: 0.0124 - accuracy: 0.9879 - val_loss: 0.1349 - val_accuracy: 0.8609\n",
            "Epoch 28/30\n",
            "30/30 [==============================] - 2s 58ms/step - loss: 0.0120 - accuracy: 0.9889 - val_loss: 0.1355 - val_accuracy: 0.8604\n",
            "Epoch 29/30\n",
            "30/30 [==============================] - 2s 59ms/step - loss: 0.0118 - accuracy: 0.9891 - val_loss: 0.1383 - val_accuracy: 0.8573\n",
            "Epoch 30/30\n",
            "30/30 [==============================] - 3s 92ms/step - loss: 0.0122 - accuracy: 0.9889 - val_loss: 0.1358 - val_accuracy: 0.8597\n"
          ]
        }
      ]
    },
    {
      "cell_type": "code",
      "source": [
        "plt.clf()\n",
        "acc = history_dict[\"accuracy\"]\n",
        "val_acc = history_dict[\"val_accuracy\"]\n",
        "plt.plot(epochs, acc, \"bo\", label=\"Training acc\")\n",
        "plt.plot(epochs, val_acc, \"b\", label=\"Validation acc\")\n",
        "plt.title(\"Training and validation accuracy\")\n",
        "plt.xlabel(\"Epochs\")\n",
        "plt.ylabel(\"Accuracy\")\n",
        "plt.legend()\n",
        "plt.show()"
      ],
      "metadata": {
        "colab": {
          "base_uri": "https://localhost:8080/",
          "height": 295
        },
        "id": "Cw1gh7YZvvDl",
        "outputId": "111afe70-a73f-4cdf-e36c-fe0b33055374"
      },
      "execution_count": 57,
      "outputs": [
        {
          "output_type": "display_data",
          "data": {
            "text/plain": [
              "<Figure size 432x288 with 1 Axes>"
            ],
            "image/png": "[encoded data removed]"
          },
          "metadata": {
            "needs_background": "light"
          }
        }
      ]
    },
    {
      "cell_type": "markdown",
      "source": [
        "1. To test the performance, I used a 2, 3, and 6-layered neural network with 16, 64, and 64 hidden neurons. \n",
        "2. One significant finding I made was that, once it passes the threshold, it will train and perform essentially identically regardless of how many layers are stacked up.\n",
        "3.Keras is a model. Sequential() It has the same organizational structure as input layer, hidden layers, and output layer. \n",
        "4.The initialization of the Sequential model, where we can stack layers, is done in the line above. model. Dense (64, Tanh activation) \n",
        "5. The above line indicates that we are using the tanh activation function to add a new hidden layer with 64 dense units.\n",
        "\n",
        "\n"
      ],
      "metadata": {
        "id": "0w0um17qw30w"
      }
    },
    {
      "cell_type": "markdown",
      "source": [
        "6. When I refer to 64 hidden units, we can presume that I am referring to 64 neurons that are being formed in the layer to learn the vector-based input. \n",
        "7. The term \"transfer function\" also refers to the activation function. If the output range of the function is constrained, just sigmoid-squash the value to 1 that is above it. As non-linear functions, they. model.add(Dropout(0.5)) \n",
        "8. When we encounter an overfitting circumstance, the significance of Dropout is helpful. \n",
        "9.Hey, could you kindly drop off a few of my neurons at random, as it results in overfitting? When I say 0.5, it means that 50% of my neurons are no longer functioning. \n",
        "10. I've tried using L1 and L2 regularizes, but it hasn't had much of an impact; instead, performance has suffered.\n",
        "11. My opinion is that the model is saturated, and the best validation accuracy we can obtain is between 86 and 87 percent. \n",
        "12.  To examine the performance metrics on the loss, binary crossentrophy was replaced with mean square error. \n",
        "13.  As a result, validation loss has done well. When using binary crossentrophy, the validation loss starts out at 0.5; however, when using mse, it drops to 0.1. \n",
        "14. The vanishing gradient problem makes Relu the best function among sigmoid and tanh functions. Tanh performs similarly to Tanh in this situation."
      ],
      "metadata": {
        "id": "ZjBirbtm_uWf"
      }
    },
    {
      "cell_type": "markdown",
      "source": [
        "Summary:\n",
        "1. When I combined 2 layers , 16 hidden units with tanh activation function and adam \n",
        "\n",
        "Training Accuracy:99.64\n",
        "\n",
        "Validation Accuracy:86.82\n",
        "\n",
        "2. When I combined 3 dense layers, 64 hidden units with tanh activation function and Dropouts (0.5), Regularizers and adam.\n",
        "\n",
        "Training accuracy:98.69\n",
        "\n",
        "Validation accuracy:86.33\n",
        "\n",
        "3. When I combined 6 dense, 64 hidden units, Tanh activation function, Dropouts(0.5) and adam , regulizers as optimizers.\n",
        "\n",
        "Training accuracy:98.89\n",
        "\n",
        "validation accuracy:85.97\n",
        "\n"
      ],
      "metadata": {
        "id": "zNjWSNeIAhfG"
      }
    }
  ],
  "metadata": {
    "colab": {
      "collapsed_sections": [],
      "name": "chapter04_getting-started-with-neural-networks.i",
      "provenance": [],
      "toc_visible": true
    },
    "kernelspec": {
      "display_name": "Python 3",
      "language": "python",
      "name": "python3"
    },
    "language_info": {
      "codemirror_mode": {
        "name": "ipython",
        "version": 3
      },
      "file_extension": ".py",
      "mimetype": "text/x-python",
      "name": "python",
      "nbconvert_exporter": "python",
      "pygments_lexer": "ipython3",
      "version": "3.7.0"
    }
  },
  "nbformat": 4,
  "nbformat_minor": 0
}