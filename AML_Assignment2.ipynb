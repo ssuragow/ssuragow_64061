{
  "cells": [
    {
      "cell_type": "markdown",
      "metadata": {
        "id": "QBlsrBgj3inD"
      },
      "source": [
        "This is a companion notebook for the book [Deep Learning with Python, Second Edition](https://www.manning.com/books/deep-learning-with-python-second-edition?a_aid=keras&a_bid=76564dff). For readability, it only contains runnable code blocks and section titles, and omits everything else in the book: text paragraphs, figures, and pseudocode.\n",
        "\n",
        "**If you want to be able to follow what's going on, I recommend reading the notebook side by side with your copy of the book.**\n",
        "\n",
        "This notebook was generated for TensorFlow 2.6."
      ]
    },
    {
      "cell_type": "markdown",
      "metadata": {
        "id": "gWhvX7Rt3inK"
      },
      "source": [
        "## Introduction to convnets"
      ]
    },
    {
      "cell_type": "markdown",
      "metadata": {
        "id": "tIj4_YKY3inK"
      },
      "source": [
        "**Instantiating a small convnet**"
      ]
    },
    {
      "cell_type": "code",
      "execution_count": null,
      "metadata": {
        "id": "ifiIjfTV3inL"
      },
      "outputs": [],
      "source": [
        "from tensorflow import keras\n",
        "from tensorflow.keras import layers\n",
        "inputs = keras.Input(shape=(28, 28, 1))\n",
        "x = layers.Conv2D(filters=32, kernel_size=3, activation=\"relu\")(inputs)\n",
        "x = layers.MaxPooling2D(pool_size=2)(x)\n",
        "x = layers.Conv2D(filters=64, kernel_size=3, activation=\"relu\")(x)\n",
        "x = layers.MaxPooling2D(pool_size=2)(x)\n",
        "x = layers.Conv2D(filters=128, kernel_size=3, activation=\"relu\")(x)\n",
        "x = layers.Flatten()(x)\n",
        "outputs = layers.Dense(10, activation=\"softmax\")(x)\n",
        "model = keras.Model(inputs=inputs, outputs=outputs)"
      ]
    },
    {
      "cell_type": "markdown",
      "metadata": {
        "id": "mqeZp76E3inM"
      },
      "source": [
        "**Displaying the model's summary**"
      ]
    },
    {
      "cell_type": "code",
      "execution_count": null,
      "metadata": {
        "id": "f8quTQ7v3inM",
        "colab": {
          "base_uri": "https://localhost:8080/"
        },
        "outputId": "ed7f2401-ef1a-4db7-f98c-5e41d0ec3e58"
      },
      "outputs": [
        {
          "output_type": "stream",
          "name": "stdout",
          "text": [
            "Model: \"model\"\n",
            "_________________________________________________________________\n",
            " Layer (type)                Output Shape              Param #   \n",
            "=================================================================\n",
            " input_1 (InputLayer)        [(None, 28, 28, 1)]       0         \n",
            "                                                                 \n",
            " conv2d (Conv2D)             (None, 26, 26, 32)        320       \n",
            "                                                                 \n",
            " max_pooling2d (MaxPooling2D  (None, 13, 13, 32)       0         \n",
            " )                                                               \n",
            "                                                                 \n",
            " conv2d_1 (Conv2D)           (None, 11, 11, 64)        18496     \n",
            "                                                                 \n",
            " max_pooling2d_1 (MaxPooling  (None, 5, 5, 64)         0         \n",
            " 2D)                                                             \n",
            "                                                                 \n",
            " conv2d_2 (Conv2D)           (None, 3, 3, 128)         73856     \n",
            "                                                                 \n",
            " flatten (Flatten)           (None, 1152)              0         \n",
            "                                                                 \n",
            " dense (Dense)               (None, 10)                11530     \n",
            "                                                                 \n",
            "=================================================================\n",
            "Total params: 104,202\n",
            "Trainable params: 104,202\n",
            "Non-trainable params: 0\n",
            "_________________________________________________________________\n"
          ]
        }
      ],
      "source": [
        "model.summary()"
      ]
    },
    {
      "cell_type": "markdown",
      "metadata": {
        "id": "CPD1Ru3f3inM"
      },
      "source": [
        "**Training the convnet on MNIST images**"
      ]
    },
    {
      "cell_type": "code",
      "execution_count": null,
      "metadata": {
        "id": "HY81MJsw3inN",
        "colab": {
          "base_uri": "https://localhost:8080/"
        },
        "outputId": "51cdd4f0-5924-4dc8-aeab-5ca124ea2606"
      },
      "outputs": [
        {
          "output_type": "stream",
          "name": "stdout",
          "text": [
            "Downloading data from https://storage.googleapis.com/tensorflow/tf-keras-datasets/mnist.npz\n",
            "11490434/11490434 [==============================] - 1s 0us/step\n",
            "Epoch 1/5\n",
            "938/938 [==============================] - 15s 5ms/step - loss: 0.1568 - accuracy: 0.9513\n",
            "Epoch 2/5\n",
            "938/938 [==============================] - 4s 4ms/step - loss: 0.0435 - accuracy: 0.9865\n",
            "Epoch 3/5\n",
            "938/938 [==============================] - 4s 4ms/step - loss: 0.0300 - accuracy: 0.9906\n",
            "Epoch 4/5\n",
            "938/938 [==============================] - 4s 4ms/step - loss: 0.0230 - accuracy: 0.9933\n",
            "Epoch 5/5\n",
            "938/938 [==============================] - 4s 4ms/step - loss: 0.0179 - accuracy: 0.9947\n"
          ]
        },
        {
          "output_type": "execute_result",
          "data": {
            "text/plain": [
              "<keras.callbacks.History at 0x7f953222afd0>"
            ]
          },
          "metadata": {},
          "execution_count": 3
        }
      ],
      "source": [
        "from tensorflow.keras.datasets import mnist\n",
        "\n",
        "(train_images, train_labels), (test_images, test_labels) = mnist.load_data()\n",
        "train_images = train_images.reshape((60000, 28, 28, 1))\n",
        "train_images = train_images.astype(\"float32\") / 255\n",
        "test_images = test_images.reshape((10000, 28, 28, 1))\n",
        "test_images = test_images.astype(\"float32\") / 255\n",
        "model.compile(optimizer=\"rmsprop\",\n",
        "    loss=\"sparse_categorical_crossentropy\",\n",
        "    metrics=[\"accuracy\"])\n",
        "model.fit(train_images, train_labels, epochs=5, batch_size=64)"
      ]
    },
    {
      "cell_type": "markdown",
      "metadata": {
        "id": "WWMwBDVB3inN"
      },
      "source": [
        "**Evaluating the convnet**"
      ]
    },
    {
      "cell_type": "code",
      "execution_count": null,
      "metadata": {
        "id": "n4VL2a783inO",
        "colab": {
          "base_uri": "https://localhost:8080/"
        },
        "outputId": "27f6313d-e255-45ec-8e3c-520fa8cb9b39"
      },
      "outputs": [
        {
          "output_type": "stream",
          "name": "stdout",
          "text": [
            "313/313 [==============================] - 1s 3ms/step - loss: 0.0300 - accuracy: 0.9910\n",
            "Test accuracy: 0.991\n"
          ]
        }
      ],
      "source": [
        "test_loss, test_acc = model.evaluate(test_images, test_labels)\n",
        "print(f\"Test accuracy: {test_acc:.3f}\")"
      ]
    },
    {
      "cell_type": "markdown",
      "metadata": {
        "id": "JbfTbyef3inO"
      },
      "source": [
        "### The convolution operation"
      ]
    },
    {
      "cell_type": "markdown",
      "metadata": {
        "id": "oDhxvO-Y3inO"
      },
      "source": [
        "#### Understanding border effects and padding"
      ]
    },
    {
      "cell_type": "markdown",
      "metadata": {
        "id": "Arbzohj93inP"
      },
      "source": [
        "#### Understanding convolution strides"
      ]
    },
    {
      "cell_type": "markdown",
      "metadata": {
        "id": "XczVB8jv3inP"
      },
      "source": [
        "### The max-pooling operation"
      ]
    },
    {
      "cell_type": "markdown",
      "metadata": {
        "id": "DxWPWV6R3inP"
      },
      "source": [
        "**An incorrectly structured convnet missing its max-pooling layers**"
      ]
    },
    {
      "cell_type": "code",
      "execution_count": null,
      "metadata": {
        "id": "WF0M5oLa3inP"
      },
      "outputs": [],
      "source": [
        "inputs = keras.Input(shape=(28, 28, 1))\n",
        "x = layers.Conv2D(filters=32, kernel_size=3, activation=\"relu\")(inputs)\n",
        "x = layers.Conv2D(filters=64, kernel_size=3, activation=\"relu\")(x)\n",
        "x = layers.Conv2D(filters=128, kernel_size=3, activation=\"relu\")(x)\n",
        "x = layers.Flatten()(x)\n",
        "outputs = layers.Dense(10, activation=\"softmax\")(x)\n",
        "model_no_max_pool = keras.Model(inputs=inputs, outputs=outputs)"
      ]
    },
    {
      "cell_type": "code",
      "execution_count": null,
      "metadata": {
        "id": "u9SXfZLx3inQ",
        "colab": {
          "base_uri": "https://localhost:8080/"
        },
        "outputId": "8d7850b5-5ca4-4f80-d7c2-f4f12e440f58"
      },
      "outputs": [
        {
          "output_type": "stream",
          "name": "stdout",
          "text": [
            "Model: \"model_1\"\n",
            "_________________________________________________________________\n",
            " Layer (type)                Output Shape              Param #   \n",
            "=================================================================\n",
            " input_2 (InputLayer)        [(None, 28, 28, 1)]       0         \n",
            "                                                                 \n",
            " conv2d_3 (Conv2D)           (None, 26, 26, 32)        320       \n",
            "                                                                 \n",
            " conv2d_4 (Conv2D)           (None, 24, 24, 64)        18496     \n",
            "                                                                 \n",
            " conv2d_5 (Conv2D)           (None, 22, 22, 128)       73856     \n",
            "                                                                 \n",
            " flatten_1 (Flatten)         (None, 61952)             0         \n",
            "                                                                 \n",
            " dense_1 (Dense)             (None, 10)                619530    \n",
            "                                                                 \n",
            "=================================================================\n",
            "Total params: 712,202\n",
            "Trainable params: 712,202\n",
            "Non-trainable params: 0\n",
            "_________________________________________________________________\n"
          ]
        }
      ],
      "source": [
        "model_no_max_pool.summary()"
      ]
    },
    {
      "cell_type": "markdown",
      "metadata": {
        "id": "s15zLSpA3inQ"
      },
      "source": [
        "## Training a convnet from scratch on a small dataset"
      ]
    },
    {
      "cell_type": "markdown",
      "metadata": {
        "id": "FzXOqfzB3inQ"
      },
      "source": [
        "### The relevance of deep learning for small-data problems"
      ]
    },
    {
      "cell_type": "markdown",
      "metadata": {
        "id": "3yr9T4oV3inQ"
      },
      "source": [
        "### Downloading the data"
      ]
    },
    {
      "cell_type": "code",
      "execution_count": null,
      "metadata": {
        "id": "6DrYXh6O3inR",
        "colab": {
          "base_uri": "https://localhost:8080/",
          "height": 92
        },
        "outputId": "7e69a44e-ed3c-4691-ba41-7516542e48d9"
      },
      "outputs": [
        {
          "output_type": "display_data",
          "data": {
            "text/plain": [
              "<IPython.core.display.HTML object>"
            ],
            "text/html": [
              "\n",
              "     <input type=\"file\" id=\"files-2e9827e5-6d94-4d9d-95a4-d319796133eb\" name=\"files[]\" multiple disabled\n",
              "        style=\"border:none\" />\n",
              "     <output id=\"result-2e9827e5-6d94-4d9d-95a4-d319796133eb\">\n",
              "      Upload widget is only available when the cell has been executed in the\n",
              "      current browser session. Please rerun this cell to enable.\n",
              "      </output>\n",
              "      <script>// Copyright 2017 Google LLC\n",
              "//\n",
              "// Licensed under the Apache License, Version 2.0 (the \"License\");\n",
              "// you may not use this file except in compliance with the License.\n",
              "// You may obtain a copy of the License at\n",
              "//\n",
              "//      http://www.apache.org/licenses/LICENSE-2.0\n",
              "//\n",
              "// Unless required by applicable law or agreed to in writing, software\n",
              "// distributed under the License is distributed on an \"AS IS\" BASIS,\n",
              "// WITHOUT WARRANTIES OR CONDITIONS OF ANY KIND, either express or implied.\n",
              "// See the License for the specific language governing permissions and\n",
              "// limitations under the License.\n",
              "\n",
              "/**\n",
              " * @fileoverview Helpers for google.colab Python module.\n",
              " */\n",
              "(function(scope) {\n",
              "function span(text, styleAttributes = {}) {\n",
              "  const element = document.createElement('span');\n",
              "  element.textContent = text;\n",
              "  for (const key of Object.keys(styleAttributes)) {\n",
              "    element.style[key] = styleAttributes[key];\n",
              "  }\n",
              "  return element;\n",
              "}\n",
              "\n",
              "// Max number of bytes which will be uploaded at a time.\n",
              "const MAX_PAYLOAD_SIZE = 100 * 1024;\n",
              "\n",
              "function _uploadFiles(inputId, outputId) {\n",
              "  const steps = uploadFilesStep(inputId, outputId);\n",
              "  const outputElement = document.getElementById(outputId);\n",
              "  // Cache steps on the outputElement to make it available for the next call\n",
              "  // to uploadFilesContinue from Python.\n",
              "  outputElement.steps = steps;\n",
              "\n",
              "  return _uploadFilesContinue(outputId);\n",
              "}\n",
              "\n",
              "// This is roughly an async generator (not supported in the browser yet),\n",
              "// where there are multiple asynchronous steps and the Python side is going\n",
              "// to poll for completion of each step.\n",
              "// This uses a Promise to block the python side on completion of each step,\n",
              "// then passes the result of the previous step as the input to the next step.\n",
              "function _uploadFilesContinue(outputId) {\n",
              "  const outputElement = document.getElementById(outputId);\n",
              "  const steps = outputElement.steps;\n",
              "\n",
              "  const next = steps.next(outputElement.lastPromiseValue);\n",
              "  return Promise.resolve(next.value.promise).then((value) => {\n",
              "    // Cache the last promise value to make it available to the next\n",
              "    // step of the generator.\n",
              "    outputElement.lastPromiseValue = value;\n",
              "    return next.value.response;\n",
              "  });\n",
              "}\n",
              "\n",
              "/**\n",
              " * Generator function which is called between each async step of the upload\n",
              " * process.\n",
              " * @param {string} inputId Element ID of the input file picker element.\n",
              " * @param {string} outputId Element ID of the output display.\n",
              " * @return {!Iterable<!Object>} Iterable of next steps.\n",
              " */\n",
              "function* uploadFilesStep(inputId, outputId) {\n",
              "  const inputElement = document.getElementById(inputId);\n",
              "  inputElement.disabled = false;\n",
              "\n",
              "  const outputElement = document.getElementById(outputId);\n",
              "  outputElement.innerHTML = '';\n",
              "\n",
              "  const pickedPromise = new Promise((resolve) => {\n",
              "    inputElement.addEventListener('change', (e) => {\n",
              "      resolve(e.target.files);\n",
              "    });\n",
              "  });\n",
              "\n",
              "  const cancel = document.createElement('button');\n",
              "  inputElement.parentElement.appendChild(cancel);\n",
              "  cancel.textContent = 'Cancel upload';\n",
              "  const cancelPromise = new Promise((resolve) => {\n",
              "    cancel.onclick = () => {\n",
              "      resolve(null);\n",
              "    };\n",
              "  });\n",
              "\n",
              "  // Wait for the user to pick the files.\n",
              "  const files = yield {\n",
              "    promise: Promise.race([pickedPromise, cancelPromise]),\n",
              "    response: {\n",
              "      action: 'starting',\n",
              "    }\n",
              "  };\n",
              "\n",
              "  cancel.remove();\n",
              "\n",
              "  // Disable the input element since further picks are not allowed.\n",
              "  inputElement.disabled = true;\n",
              "\n",
              "  if (!files) {\n",
              "    return {\n",
              "      response: {\n",
              "        action: 'complete',\n",
              "      }\n",
              "    };\n",
              "  }\n",
              "\n",
              "  for (const file of files) {\n",
              "    const li = document.createElement('li');\n",
              "    li.append(span(file.name, {fontWeight: 'bold'}));\n",
              "    li.append(span(\n",
              "        `(${file.type || 'n/a'}) - ${file.size} bytes, ` +\n",
              "        `last modified: ${\n",
              "            file.lastModifiedDate ? file.lastModifiedDate.toLocaleDateString() :\n",
              "                                    'n/a'} - `));\n",
              "    const percent = span('0% done');\n",
              "    li.appendChild(percent);\n",
              "\n",
              "    outputElement.appendChild(li);\n",
              "\n",
              "    const fileDataPromise = new Promise((resolve) => {\n",
              "      const reader = new FileReader();\n",
              "      reader.onload = (e) => {\n",
              "        resolve(e.target.result);\n",
              "      };\n",
              "      reader.readAsArrayBuffer(file);\n",
              "    });\n",
              "    // Wait for the data to be ready.\n",
              "    let fileData = yield {\n",
              "      promise: fileDataPromise,\n",
              "      response: {\n",
              "        action: 'continue',\n",
              "      }\n",
              "    };\n",
              "\n",
              "    // Use a chunked sending to avoid message size limits. See b/62115660.\n",
              "    let position = 0;\n",
              "    do {\n",
              "      const length = Math.min(fileData.byteLength - position, MAX_PAYLOAD_SIZE);\n",
              "      const chunk = new Uint8Array(fileData, position, length);\n",
              "      position += length;\n",
              "\n",
              "      const base64 = btoa(String.fromCharCode.apply(null, chunk));\n",
              "      yield {\n",
              "        response: {\n",
              "          action: 'append',\n",
              "          file: file.name,\n",
              "          data: base64,\n",
              "        },\n",
              "      };\n",
              "\n",
              "      let percentDone = fileData.byteLength === 0 ?\n",
              "          100 :\n",
              "          Math.round((position / fileData.byteLength) * 100);\n",
              "      percent.textContent = `${percentDone}% done`;\n",
              "\n",
              "    } while (position < fileData.byteLength);\n",
              "  }\n",
              "\n",
              "  // All done.\n",
              "  yield {\n",
              "    response: {\n",
              "      action: 'complete',\n",
              "    }\n",
              "  };\n",
              "}\n",
              "\n",
              "scope.google = scope.google || {};\n",
              "scope.google.colab = scope.google.colab || {};\n",
              "scope.google.colab._files = {\n",
              "  _uploadFiles,\n",
              "  _uploadFilesContinue,\n",
              "};\n",
              "})(self);\n",
              "</script> "
            ]
          },
          "metadata": {}
        },
        {
          "output_type": "stream",
          "name": "stdout",
          "text": [
            "Saving kaggle.json to kaggle.json\n"
          ]
        },
        {
          "output_type": "execute_result",
          "data": {
            "text/plain": [
              "{'kaggle.json': b'{\"username\":\"svootkur\",\"key\":\"6e82607283e5fea59ca1d17df8003a89\"}'}"
            ]
          },
          "metadata": {},
          "execution_count": 7
        }
      ],
      "source": [
        "from google.colab import files\n",
        "files.upload()"
      ]
    },
    {
      "cell_type": "code",
      "execution_count": null,
      "metadata": {
        "id": "q5il1xDT3inR"
      },
      "outputs": [],
      "source": [
        "!mkdir ~/.kaggle\n",
        "!cp kaggle.json ~/.kaggle/\n",
        "!chmod 600 ~/.kaggle/kaggle.json"
      ]
    },
    {
      "cell_type": "code",
      "source": [
        "from google.colab import drive\n",
        "drive.mount('/content/drive')"
      ],
      "metadata": {
        "id": "dFG91CeO46P_",
        "colab": {
          "base_uri": "https://localhost:8080/"
        },
        "outputId": "003ce42b-7722-448e-9172-e6535c400ac6"
      },
      "execution_count": null,
      "outputs": [
        {
          "output_type": "stream",
          "name": "stdout",
          "text": [
            "Mounted at /content/drive\n"
          ]
        }
      ]
    },
    {
      "cell_type": "code",
      "execution_count": null,
      "metadata": {
        "id": "t1tLCuG83inR",
        "colab": {
          "base_uri": "https://localhost:8080/"
        },
        "outputId": "5b748bde-00da-4836-84de-d43d001edf73"
      },
      "outputs": [
        {
          "output_type": "stream",
          "name": "stdout",
          "text": [
            "Downloading dogs-vs-cats.zip to /content\n",
            "100% 812M/812M [00:20<00:00, 42.1MB/s]\n",
            "100% 812M/812M [00:20<00:00, 42.4MB/s]\n"
          ]
        }
      ],
      "source": [
        "!kaggle competitions download -c dogs-vs-cats"
      ]
    },
    {
      "cell_type": "code",
      "source": [
        "!unzip -qq dogs-vs-cats.zip"
      ],
      "metadata": {
        "id": "N4IS1mjt5k-k"
      },
      "execution_count": null,
      "outputs": []
    },
    {
      "cell_type": "code",
      "execution_count": null,
      "metadata": {
        "id": "SsExaV_f3inR"
      },
      "outputs": [],
      "source": [
        "!unzip -qq train.zip"
      ]
    },
    {
      "cell_type": "code",
      "source": [
        "!unzip -qq test1.zip"
      ],
      "metadata": {
        "id": "4ZfkxW6NMLpr"
      },
      "execution_count": null,
      "outputs": []
    },
    {
      "cell_type": "markdown",
      "metadata": {
        "id": "jnreL-_A3inS"
      },
      "source": [
        "**Copying images to training, validation, and test directories**"
      ]
    },
    {
      "cell_type": "code",
      "execution_count": null,
      "metadata": {
        "id": "BKXPPBxw3inS"
      },
      "outputs": [],
      "source": [
        "import os, shutil, pathlib\n",
        "\n",
        "original_dir = pathlib.Path(\"train\")\n",
        "new_base_dir = pathlib.Path(\"cats_vs_dogs_small\")\n",
        "\n",
        "def make_subset(subset_name, start_index, end_index):\n",
        "    for category in (\"cat\", \"dog\"):\n",
        "        dir = new_base_dir / subset_name / category\n",
        "        os.makedirs(dir)\n",
        "        fnames = [f\"{category}.{i}.jpg\" for i in range(start_index, end_index)]\n",
        "        for fname in fnames:\n",
        "            shutil.copyfile(src=original_dir / fname,\n",
        "                            dst=dir / fname)\n",
        "\n",
        "make_subset(\"train\", start_index=0, end_index=1000)\n",
        "make_subset(\"validation\", start_index=1000, end_index=1500)\n",
        "make_subset(\"test\", start_index=1500, end_index=2000)"
      ]
    },
    {
      "cell_type": "markdown",
      "metadata": {
        "id": "4XaK5wtA3inS"
      },
      "source": [
        "### Building the model"
      ]
    },
    {
      "cell_type": "markdown",
      "metadata": {
        "id": "6hX_b6r23inS"
      },
      "source": [
        "**Instantiating a small convnet for dogs vs. cats classification**"
      ]
    },
    {
      "cell_type": "code",
      "execution_count": null,
      "metadata": {
        "id": "0sKOJz9x3inT"
      },
      "outputs": [],
      "source": [
        "from tensorflow import keras\n",
        "from tensorflow.keras import layers\n",
        "\n",
        "inputs = keras.Input(shape=(180, 180, 3))\n",
        "x = layers.Rescaling(1./255)(inputs)\n",
        "x = layers.Conv2D(filters=32, kernel_size=3, activation=\"relu\")(x)\n",
        "x = layers.MaxPooling2D(pool_size=2)(x)\n",
        "x = layers.Conv2D(filters=64, kernel_size=3, activation=\"relu\")(x)\n",
        "x = layers.MaxPooling2D(pool_size=2)(x)\n",
        "x = layers.Conv2D(filters=128, kernel_size=3, activation=\"relu\")(x)\n",
        "x = layers.MaxPooling2D(pool_size=2)(x)\n",
        "x = layers.Conv2D(filters=256, kernel_size=3, activation=\"relu\")(x)\n",
        "x = layers.MaxPooling2D(pool_size=2)(x)\n",
        "x = layers.Conv2D(filters=256, kernel_size=3, activation=\"relu\")(x)\n",
        "x = layers.Flatten()(x)\n",
        "x = layers.Dropout(0.5)(x)\n",
        "outputs = layers.Dense(1, activation=\"sigmoid\")(x)\n",
        "model = keras.Model(inputs=inputs, outputs=outputs)"
      ]
    },
    {
      "cell_type": "code",
      "execution_count": null,
      "metadata": {
        "id": "zTYlF8ss3inT",
        "colab": {
          "base_uri": "https://localhost:8080/"
        },
        "outputId": "782bf7e7-4968-4f13-c4df-5b83bd0fb780"
      },
      "outputs": [
        {
          "output_type": "stream",
          "name": "stdout",
          "text": [
            "Model: \"model_2\"\n",
            "_________________________________________________________________\n",
            " Layer (type)                Output Shape              Param #   \n",
            "=================================================================\n",
            " input_3 (InputLayer)        [(None, 180, 180, 3)]     0         \n",
            "                                                                 \n",
            " rescaling (Rescaling)       (None, 180, 180, 3)       0         \n",
            "                                                                 \n",
            " conv2d_6 (Conv2D)           (None, 178, 178, 32)      896       \n",
            "                                                                 \n",
            " max_pooling2d_2 (MaxPooling  (None, 89, 89, 32)       0         \n",
            " 2D)                                                             \n",
            "                                                                 \n",
            " conv2d_7 (Conv2D)           (None, 87, 87, 64)        18496     \n",
            "                                                                 \n",
            " max_pooling2d_3 (MaxPooling  (None, 43, 43, 64)       0         \n",
            " 2D)                                                             \n",
            "                                                                 \n",
            " conv2d_8 (Conv2D)           (None, 41, 41, 128)       73856     \n",
            "                                                                 \n",
            " max_pooling2d_4 (MaxPooling  (None, 20, 20, 128)      0         \n",
            " 2D)                                                             \n",
            "                                                                 \n",
            " conv2d_9 (Conv2D)           (None, 18, 18, 256)       295168    \n",
            "                                                                 \n",
            " max_pooling2d_5 (MaxPooling  (None, 9, 9, 256)        0         \n",
            " 2D)                                                             \n",
            "                                                                 \n",
            " conv2d_10 (Conv2D)          (None, 7, 7, 256)         590080    \n",
            "                                                                 \n",
            " flatten_2 (Flatten)         (None, 12544)             0         \n",
            "                                                                 \n",
            " dropout (Dropout)           (None, 12544)             0         \n",
            "                                                                 \n",
            " dense_2 (Dense)             (None, 1)                 12545     \n",
            "                                                                 \n",
            "=================================================================\n",
            "Total params: 991,041\n",
            "Trainable params: 991,041\n",
            "Non-trainable params: 0\n",
            "_________________________________________________________________\n"
          ]
        }
      ],
      "source": [
        "model.summary()"
      ]
    },
    {
      "cell_type": "markdown",
      "metadata": {
        "id": "uFygGTl03inT"
      },
      "source": [
        "**Configuring the model for training**"
      ]
    },
    {
      "cell_type": "code",
      "execution_count": null,
      "metadata": {
        "id": "NBYE3oBh3inT"
      },
      "outputs": [],
      "source": [
        "model.compile(loss=\"binary_crossentropy\",\n",
        "              optimizer=\"rmsprop\",\n",
        "              metrics=[\"accuracy\"])"
      ]
    },
    {
      "cell_type": "markdown",
      "metadata": {
        "id": "McfEaVwX3inT"
      },
      "source": [
        "### Data preprocessing"
      ]
    },
    {
      "cell_type": "markdown",
      "metadata": {
        "id": "6qDSzIMz3inU"
      },
      "source": [
        "**Using `image_dataset_from_directory` to read images**"
      ]
    },
    {
      "cell_type": "code",
      "execution_count": null,
      "metadata": {
        "id": "FGPSGsy43inU",
        "colab": {
          "base_uri": "https://localhost:8080/"
        },
        "outputId": "016f5dbe-db92-48ac-8145-4990dd008ed7"
      },
      "outputs": [
        {
          "output_type": "stream",
          "name": "stdout",
          "text": [
            "Found 2000 files belonging to 2 classes.\n",
            "Found 1000 files belonging to 2 classes.\n",
            "Found 1000 files belonging to 2 classes.\n"
          ]
        }
      ],
      "source": [
        "from tensorflow.keras.utils import image_dataset_from_directory\n",
        "\n",
        "train_dataset = image_dataset_from_directory(\n",
        "    new_base_dir / \"train\",\n",
        "    image_size=(180, 180),\n",
        "    batch_size=32)\n",
        "validation_dataset = image_dataset_from_directory(\n",
        "    new_base_dir / \"validation\",\n",
        "    image_size=(180, 180),\n",
        "    batch_size=32)\n",
        "test_dataset = image_dataset_from_directory(\n",
        "    new_base_dir / \"test\",\n",
        "    image_size=(180, 180),\n",
        "    batch_size=32)"
      ]
    },
    {
      "cell_type": "code",
      "execution_count": null,
      "metadata": {
        "id": "32cGqP2x3inW"
      },
      "outputs": [],
      "source": [
        "import numpy as np\n",
        "import tensorflow as tf\n",
        "random_numbers = np.random.normal(size=(1000, 16))\n",
        "dataset = tf.data.Dataset.from_tensor_slices(random_numbers)"
      ]
    },
    {
      "cell_type": "code",
      "execution_count": null,
      "metadata": {
        "id": "rg_iOt1p3inW",
        "colab": {
          "base_uri": "https://localhost:8080/"
        },
        "outputId": "21cbbe68-24a1-4960-b246-68583514602e"
      },
      "outputs": [
        {
          "output_type": "stream",
          "name": "stdout",
          "text": [
            "(16,)\n",
            "(16,)\n",
            "(16,)\n"
          ]
        }
      ],
      "source": [
        "for i, element in enumerate(dataset):\n",
        "    print(element.shape)\n",
        "    if i >= 2:\n",
        "        break"
      ]
    },
    {
      "cell_type": "code",
      "execution_count": null,
      "metadata": {
        "id": "zg47SsYZ3inX",
        "colab": {
          "base_uri": "https://localhost:8080/"
        },
        "outputId": "de5ad086-5168-42c9-ee54-ee2c330a0dd9"
      },
      "outputs": [
        {
          "output_type": "stream",
          "name": "stdout",
          "text": [
            "(32, 16)\n",
            "(32, 16)\n",
            "(32, 16)\n"
          ]
        }
      ],
      "source": [
        "batched_dataset = dataset.batch(32)\n",
        "for i, element in enumerate(batched_dataset):\n",
        "    print(element.shape)\n",
        "    if i >= 2:\n",
        "        break"
      ]
    },
    {
      "cell_type": "code",
      "execution_count": null,
      "metadata": {
        "id": "-GjZGcxP3inX",
        "colab": {
          "base_uri": "https://localhost:8080/"
        },
        "outputId": "172b80b4-59c6-41e7-e55c-52f0521478c5"
      },
      "outputs": [
        {
          "output_type": "stream",
          "name": "stdout",
          "text": [
            "(4, 4)\n",
            "(4, 4)\n",
            "(4, 4)\n"
          ]
        }
      ],
      "source": [
        "reshaped_dataset = dataset.map(lambda x: tf.reshape(x, (4, 4)))\n",
        "for i, element in enumerate(reshaped_dataset):\n",
        "    print(element.shape)\n",
        "    if i >= 2:\n",
        "        break"
      ]
    },
    {
      "cell_type": "markdown",
      "metadata": {
        "id": "aTz9_F9P3inX"
      },
      "source": [
        "**Displaying the shapes of the data and labels yielded by the `Dataset`**"
      ]
    },
    {
      "cell_type": "code",
      "execution_count": null,
      "metadata": {
        "id": "KDHfeayA3inX",
        "colab": {
          "base_uri": "https://localhost:8080/"
        },
        "outputId": "80babe65-dfd2-49b4-f417-e12667e7b65f"
      },
      "outputs": [
        {
          "output_type": "stream",
          "name": "stdout",
          "text": [
            "data batch shape: (32, 180, 180, 3)\n",
            "labels batch shape: (32,)\n"
          ]
        }
      ],
      "source": [
        "for data_batch, labels_batch in train_dataset:\n",
        "    print(\"data batch shape:\", data_batch.shape)\n",
        "    print(\"labels batch shape:\", labels_batch.shape)\n",
        "    break"
      ]
    },
    {
      "cell_type": "markdown",
      "metadata": {
        "id": "XOaDWaF63inX"
      },
      "source": [
        "**Fitting the model using a `Dataset`**"
      ]
    },
    {
      "cell_type": "code",
      "execution_count": null,
      "metadata": {
        "id": "jJNw-sGQ3inY",
        "colab": {
          "base_uri": "https://localhost:8080/"
        },
        "outputId": "e1614880-4cbe-4cf5-df5d-d77df00eb27d"
      },
      "outputs": [
        {
          "output_type": "stream",
          "name": "stdout",
          "text": [
            "Epoch 1/30\n",
            "63/63 [==============================] - 8s 84ms/step - loss: 0.7599 - accuracy: 0.5240 - val_loss: 0.6936 - val_accuracy: 0.5000\n",
            "Epoch 2/30\n",
            "63/63 [==============================] - 5s 80ms/step - loss: 0.7250 - accuracy: 0.5775 - val_loss: 0.6379 - val_accuracy: 0.6300\n",
            "Epoch 3/30\n",
            "63/63 [==============================] - 5s 72ms/step - loss: 0.6677 - accuracy: 0.6035 - val_loss: 0.6441 - val_accuracy: 0.6240\n",
            "Epoch 4/30\n",
            "63/63 [==============================] - 5s 73ms/step - loss: 0.6187 - accuracy: 0.6625 - val_loss: 0.6331 - val_accuracy: 0.6340\n",
            "Epoch 5/30\n",
            "63/63 [==============================] - 5s 72ms/step - loss: 0.5872 - accuracy: 0.7005 - val_loss: 0.6783 - val_accuracy: 0.6210\n",
            "Epoch 6/30\n",
            "63/63 [==============================] - 5s 72ms/step - loss: 0.5658 - accuracy: 0.7005 - val_loss: 0.5834 - val_accuracy: 0.6910\n",
            "Epoch 7/30\n",
            "63/63 [==============================] - 5s 73ms/step - loss: 0.5199 - accuracy: 0.7530 - val_loss: 0.5543 - val_accuracy: 0.7360\n",
            "Epoch 8/30\n",
            "63/63 [==============================] - 5s 74ms/step - loss: 0.4714 - accuracy: 0.7795 - val_loss: 0.5843 - val_accuracy: 0.6900\n",
            "Epoch 9/30\n",
            "63/63 [==============================] - 5s 83ms/step - loss: 0.4364 - accuracy: 0.7970 - val_loss: 0.5950 - val_accuracy: 0.6910\n",
            "Epoch 10/30\n",
            "63/63 [==============================] - 6s 97ms/step - loss: 0.3896 - accuracy: 0.8175 - val_loss: 0.5491 - val_accuracy: 0.7480\n",
            "Epoch 11/30\n",
            "63/63 [==============================] - 5s 74ms/step - loss: 0.3570 - accuracy: 0.8500 - val_loss: 0.6349 - val_accuracy: 0.7440\n",
            "Epoch 12/30\n",
            "63/63 [==============================] - 5s 75ms/step - loss: 0.3170 - accuracy: 0.8630 - val_loss: 0.6339 - val_accuracy: 0.7500\n",
            "Epoch 13/30\n",
            "63/63 [==============================] - 5s 72ms/step - loss: 0.2905 - accuracy: 0.8865 - val_loss: 0.7233 - val_accuracy: 0.7200\n",
            "Epoch 14/30\n",
            "63/63 [==============================] - 5s 72ms/step - loss: 0.2217 - accuracy: 0.9075 - val_loss: 0.8079 - val_accuracy: 0.7680\n",
            "Epoch 15/30\n",
            "63/63 [==============================] - 5s 71ms/step - loss: 0.2034 - accuracy: 0.9175 - val_loss: 0.7765 - val_accuracy: 0.7560\n",
            "Epoch 16/30\n",
            "63/63 [==============================] - 5s 72ms/step - loss: 0.1801 - accuracy: 0.9315 - val_loss: 0.9353 - val_accuracy: 0.7210\n",
            "Epoch 17/30\n",
            "63/63 [==============================] - 5s 72ms/step - loss: 0.1512 - accuracy: 0.9345 - val_loss: 0.7709 - val_accuracy: 0.7560\n",
            "Epoch 18/30\n",
            "63/63 [==============================] - 5s 74ms/step - loss: 0.1095 - accuracy: 0.9590 - val_loss: 1.1703 - val_accuracy: 0.7530\n",
            "Epoch 19/30\n",
            "63/63 [==============================] - 5s 72ms/step - loss: 0.1139 - accuracy: 0.9575 - val_loss: 1.1641 - val_accuracy: 0.7270\n",
            "Epoch 20/30\n",
            "63/63 [==============================] - 5s 71ms/step - loss: 0.0948 - accuracy: 0.9655 - val_loss: 1.1235 - val_accuracy: 0.7550\n",
            "Epoch 21/30\n",
            "63/63 [==============================] - 5s 73ms/step - loss: 0.0995 - accuracy: 0.9610 - val_loss: 1.1120 - val_accuracy: 0.7730\n",
            "Epoch 22/30\n",
            "63/63 [==============================] - 6s 86ms/step - loss: 0.0814 - accuracy: 0.9685 - val_loss: 1.1004 - val_accuracy: 0.7620\n",
            "Epoch 23/30\n",
            "63/63 [==============================] - 5s 72ms/step - loss: 0.0808 - accuracy: 0.9705 - val_loss: 1.3163 - val_accuracy: 0.7410\n",
            "Epoch 24/30\n",
            "63/63 [==============================] - 5s 75ms/step - loss: 0.0817 - accuracy: 0.9675 - val_loss: 1.3291 - val_accuracy: 0.7530\n",
            "Epoch 25/30\n",
            "63/63 [==============================] - 5s 73ms/step - loss: 0.0609 - accuracy: 0.9780 - val_loss: 1.2666 - val_accuracy: 0.7430\n",
            "Epoch 26/30\n",
            "63/63 [==============================] - 5s 72ms/step - loss: 0.0602 - accuracy: 0.9775 - val_loss: 1.2825 - val_accuracy: 0.7610\n",
            "Epoch 27/30\n",
            "63/63 [==============================] - 5s 74ms/step - loss: 0.0580 - accuracy: 0.9775 - val_loss: 1.5052 - val_accuracy: 0.7610\n",
            "Epoch 28/30\n",
            "63/63 [==============================] - 5s 72ms/step - loss: 0.0710 - accuracy: 0.9735 - val_loss: 1.6293 - val_accuracy: 0.7480\n",
            "Epoch 29/30\n",
            "63/63 [==============================] - 5s 73ms/step - loss: 0.0536 - accuracy: 0.9790 - val_loss: 1.3950 - val_accuracy: 0.7610\n",
            "Epoch 30/30\n",
            "63/63 [==============================] - 5s 73ms/step - loss: 0.0586 - accuracy: 0.9805 - val_loss: 1.5287 - val_accuracy: 0.7650\n"
          ]
        }
      ],
      "source": [
        "callbacks = [\n",
        "    keras.callbacks.ModelCheckpoint(\n",
        "        filepath=\"convnet_from_scratch.keras\",\n",
        "        save_best_only=True,\n",
        "        monitor=\"val_loss\")\n",
        "]\n",
        "history = model.fit(\n",
        "    train_dataset,\n",
        "    epochs=30,\n",
        "    validation_data=validation_dataset,\n",
        "    callbacks=callbacks)"
      ]
    },
    {
      "cell_type": "markdown",
      "metadata": {
        "id": "etwZmBOr3inY"
      },
      "source": [
        "**Displaying curves of loss and accuracy during training**"
      ]
    },
    {
      "cell_type": "code",
      "execution_count": null,
      "metadata": {
        "id": "LcpGNxQf3inY",
        "colab": {
          "base_uri": "https://localhost:8080/",
          "height": 1000
        },
        "outputId": "e15fe433-4a57-452e-e130-c3eef15403b7"
      },
      "outputs": [
        {
          "output_type": "display_data",
          "data": {
            "text/plain": [
              "<Figure size 720x720 with 1 Axes>"
            ],
            "image/png": "[encoded data removed]"
          },
          "metadata": {
            "needs_background": "light"
          }
        },
        {
          "output_type": "display_data",
          "data": {
            "text/plain": [
              "<Figure size 432x288 with 0 Axes>"
            ]
          },
          "metadata": {}
        },
        {
          "output_type": "display_data",
          "data": {
            "text/plain": [
              "<Figure size 720x720 with 1 Axes>"
            ],
            "image/png": "[encoded data removed]"
          },
          "metadata": {
            "needs_background": "light"
          }
        }
      ],
      "source": [
        "import matplotlib.pyplot as plt\n",
        "plt.figure(figsize=(10,10))\n",
        "accuracy = history.history[\"accuracy\"]\n",
        "val_accuracy = history.history[\"val_accuracy\"]\n",
        "loss = history.history[\"loss\"]\n",
        "val_loss = history.history[\"val_loss\"]\n",
        "epochs = range(1, len(accuracy) + 1)\n",
        "plt.plot(epochs, accuracy, \"bo\", label=\"Training accuracy\")\n",
        "plt.plot(epochs, val_accuracy, \"b\", label=\"Validation accuracy\")\n",
        "plt.title(\"Training and validation accuracy\")\n",
        "plt.legend()\n",
        "plt.figure()\n",
        "plt.figure(figsize=(10,10))\n",
        "plt.plot(epochs, loss, \"bo\", label=\"Training loss\")\n",
        "plt.plot(epochs, val_loss, \"b\", label=\"Validation loss\")\n",
        "plt.title(\"Training and validation loss\")\n",
        "plt.legend()\n",
        "plt.show()"
      ]
    },
    {
      "cell_type": "markdown",
      "metadata": {
        "id": "GdZnl8-z3inY"
      },
      "source": [
        "**Evaluating the model on the test set**"
      ]
    },
    {
      "cell_type": "code",
      "execution_count": null,
      "metadata": {
        "id": "juByQwyZ3inZ",
        "colab": {
          "base_uri": "https://localhost:8080/"
        },
        "outputId": "24b4b70e-99e5-41be-c40c-bfcc9c87357d"
      },
      "outputs": [
        {
          "output_type": "stream",
          "name": "stdout",
          "text": [
            "32/32 [==============================] - 2s 36ms/step - loss: 0.6273 - accuracy: 0.7370\n",
            "Test accuracy: 0.737\n"
          ]
        }
      ],
      "source": [
        "test_model = keras.models.load_model(\"convnet_from_scratch.keras\")\n",
        "test_loss, test_acc = test_model.evaluate(test_dataset)\n",
        "print(f\"Test accuracy: {test_acc:.3f}\")"
      ]
    },
    {
      "cell_type": "markdown",
      "metadata": {
        "id": "cKxzQMiE3inZ"
      },
      "source": [
        "### Using data augmentation"
      ]
    },
    {
      "cell_type": "markdown",
      "metadata": {
        "id": "LH6hmVXi3inZ"
      },
      "source": [
        "**Define a data augmentation stage to add to an image model**"
      ]
    },
    {
      "cell_type": "code",
      "source": [
        "import os, shutil, pathlib\n",
        "\n",
        "shutil.rmtree(\"./cats_vs_dogs_small_Q2\", ignore_errors=True)\n",
        "\n",
        "original_dir = pathlib.Path(\"train\")\n",
        "new_base_dir = pathlib.Path(\"cats_vs_dogs_small_Q2\")\n",
        "\n",
        "def make_subset(subset_name, start_index, end_index):\n",
        "    for category in (\"cat\", \"dog\"):\n",
        "        dir = new_base_dir / subset_name / category\n",
        "        os.makedirs(dir)\n",
        "        fnames = [f\"{category}.{i}.jpg\" for i in range(start_index, end_index)]\n",
        "        for fname in fnames:\n",
        "            shutil.copyfile(src=original_dir / fname,\n",
        "                            dst=dir / fname)\n",
        "#Here I have increased training sample size to 1500 and keeping the validation and test sample size to 500 each as before\n",
        "make_subset(\"train\", start_index=0, end_index=1500)\n",
        "make_subset(\"validation\", start_index=1500, end_index=2000)\n",
        "make_subset(\"test\", start_index=2000, end_index=2500)"
      ],
      "metadata": {
        "id": "ANppnW4JRla8"
      },
      "execution_count": null,
      "outputs": []
    },
    {
      "cell_type": "code",
      "execution_count": null,
      "metadata": {
        "id": "ItpvAmnt3inZ"
      },
      "outputs": [],
      "source": [
        "data_augmentation = keras.Sequential(\n",
        "    [\n",
        "        layers.RandomFlip(\"horizontal\"),\n",
        "        layers.RandomRotation(0.1),\n",
        "        layers.RandomZoom(0.2),\n",
        "    ]\n",
        ")"
      ]
    },
    {
      "cell_type": "markdown",
      "metadata": {
        "id": "rO_StnNN3inZ"
      },
      "source": [
        "**Displaying some randomly augmented training images**"
      ]
    },
    {
      "cell_type": "code",
      "execution_count": null,
      "metadata": {
        "id": "Ka-abhud3ina",
        "colab": {
          "base_uri": "https://localhost:8080/",
          "height": 575
        },
        "outputId": "a795b5dd-ef8b-49dc-8fd9-489a12c1119d"
      },
      "outputs": [
        {
          "output_type": "display_data",
          "data": {
            "text/plain": [
              "<Figure size 720x720 with 9 Axes>"
            ],
            "image/png": "[encoded data removed]"
          },
          "metadata": {
            "needs_background": "light"
          }
        }
      ],
      "source": [
        "plt.figure(figsize=(10, 10))\n",
        "for images, _ in train_dataset.take(1):\n",
        "    for i in range(9):\n",
        "        augmented_images = data_augmentation(images)\n",
        "        ax = plt.subplot(3, 3, i + 1)\n",
        "        plt.imshow(augmented_images[0].numpy().astype(\"uint8\"))\n",
        "        plt.axis(\"off\")"
      ]
    },
    {
      "cell_type": "markdown",
      "metadata": {
        "id": "1bvGhp2w3ina"
      },
      "source": [
        "**Defining a new convnet that includes image augmentation and dropout**"
      ]
    },
    {
      "cell_type": "code",
      "execution_count": null,
      "metadata": {
        "id": "sm_LJkzD3ina"
      },
      "outputs": [],
      "source": [
        "inputs = keras.Input(shape=(180, 180, 3))\n",
        "x = data_augmentation(inputs)\n",
        "x = layers.Rescaling(1./255)(x)\n",
        "x = layers.Conv2D(filters=32, kernel_size=3, activation=\"relu\")(x)\n",
        "x = layers.MaxPooling2D(pool_size=2)(x)\n",
        "x = layers.Conv2D(filters=64, kernel_size=3, activation=\"relu\")(x)\n",
        "x = layers.MaxPooling2D(pool_size=2)(x)\n",
        "x = layers.Conv2D(filters=128, kernel_size=3, activation=\"relu\")(x)\n",
        "x = layers.MaxPooling2D(pool_size=2)(x)\n",
        "x = layers.Conv2D(filters=256, kernel_size=3, activation=\"relu\")(x)\n",
        "x = layers.MaxPooling2D(pool_size=2)(x)\n",
        "x = layers.Conv2D(filters=256, kernel_size=3, activation=\"relu\")(x)\n",
        "x = layers.Flatten()(x)\n",
        "x = layers.Dropout(0.5)(x)\n",
        "outputs = layers.Dense(1, activation=\"sigmoid\")(x)\n",
        "model = keras.Model(inputs=inputs, outputs=outputs)\n",
        "\n",
        "model.compile(loss=\"binary_crossentropy\",\n",
        "              optimizer=\"rmsprop\",\n",
        "              metrics=[\"accuracy\"])"
      ]
    },
    {
      "cell_type": "markdown",
      "metadata": {
        "id": "eJ2TQ_V23ina"
      },
      "source": [
        "**Training the regularized convnet**"
      ]
    },
    {
      "cell_type": "code",
      "execution_count": null,
      "metadata": {
        "id": "YGJK5D443ina",
        "colab": {
          "base_uri": "https://localhost:8080/"
        },
        "outputId": "0b586016-89c0-4131-82bd-40eab82a8bad"
      },
      "outputs": [
        {
          "output_type": "stream",
          "name": "stdout",
          "text": [
            "Epoch 1/20\n",
            "63/63 [==============================] - 9s 104ms/step - loss: 0.7167 - accuracy: 0.5005 - val_loss: 0.6920 - val_accuracy: 0.5000\n",
            "Epoch 2/20\n",
            "63/63 [==============================] - 8s 121ms/step - loss: 0.6985 - accuracy: 0.5330 - val_loss: 0.6878 - val_accuracy: 0.5140\n",
            "Epoch 3/20\n",
            "63/63 [==============================] - 6s 96ms/step - loss: 0.6831 - accuracy: 0.5685 - val_loss: 0.6331 - val_accuracy: 0.6710\n",
            "Epoch 4/20\n",
            "63/63 [==============================] - 6s 97ms/step - loss: 0.6557 - accuracy: 0.6185 - val_loss: 0.6406 - val_accuracy: 0.6720\n",
            "Epoch 5/20\n",
            "63/63 [==============================] - 6s 94ms/step - loss: 0.6488 - accuracy: 0.6310 - val_loss: 0.6849 - val_accuracy: 0.5960\n",
            "Epoch 6/20\n",
            "63/63 [==============================] - 6s 94ms/step - loss: 0.6381 - accuracy: 0.6375 - val_loss: 0.6702 - val_accuracy: 0.6500\n",
            "Epoch 7/20\n",
            "63/63 [==============================] - 6s 95ms/step - loss: 0.6226 - accuracy: 0.6625 - val_loss: 0.6186 - val_accuracy: 0.6460\n",
            "Epoch 8/20\n",
            "63/63 [==============================] - 7s 106ms/step - loss: 0.6106 - accuracy: 0.6710 - val_loss: 0.6010 - val_accuracy: 0.6780\n",
            "Epoch 9/20\n",
            "63/63 [==============================] - 9s 130ms/step - loss: 0.6119 - accuracy: 0.6815 - val_loss: 0.6627 - val_accuracy: 0.6260\n",
            "Epoch 10/20\n",
            "63/63 [==============================] - 7s 95ms/step - loss: 0.5890 - accuracy: 0.6710 - val_loss: 0.6733 - val_accuracy: 0.6180\n",
            "Epoch 11/20\n",
            "63/63 [==============================] - 6s 95ms/step - loss: 0.5766 - accuracy: 0.7045 - val_loss: 0.6360 - val_accuracy: 0.6780\n",
            "Epoch 12/20\n",
            "63/63 [==============================] - 6s 98ms/step - loss: 0.5804 - accuracy: 0.7050 - val_loss: 0.8437 - val_accuracy: 0.5900\n",
            "Epoch 13/20\n",
            "63/63 [==============================] - 6s 98ms/step - loss: 0.5657 - accuracy: 0.6990 - val_loss: 0.5659 - val_accuracy: 0.7280\n",
            "Epoch 14/20\n",
            "63/63 [==============================] - 6s 97ms/step - loss: 0.5433 - accuracy: 0.7350 - val_loss: 0.6211 - val_accuracy: 0.6880\n",
            "Epoch 15/20\n",
            "63/63 [==============================] - 6s 95ms/step - loss: 0.5473 - accuracy: 0.7370 - val_loss: 0.5824 - val_accuracy: 0.7260\n",
            "Epoch 16/20\n",
            "63/63 [==============================] - 6s 96ms/step - loss: 0.5345 - accuracy: 0.7370 - val_loss: 0.5307 - val_accuracy: 0.7290\n",
            "Epoch 17/20\n",
            "63/63 [==============================] - 6s 97ms/step - loss: 0.5229 - accuracy: 0.7350 - val_loss: 0.5094 - val_accuracy: 0.7530\n",
            "Epoch 18/20\n",
            "63/63 [==============================] - 8s 117ms/step - loss: 0.5186 - accuracy: 0.7410 - val_loss: 0.4811 - val_accuracy: 0.7550\n",
            "Epoch 19/20\n",
            "63/63 [==============================] - 6s 95ms/step - loss: 0.4854 - accuracy: 0.7645 - val_loss: 0.6471 - val_accuracy: 0.7120\n",
            "Epoch 20/20\n",
            "63/63 [==============================] - 6s 96ms/step - loss: 0.4938 - accuracy: 0.7720 - val_loss: 0.5346 - val_accuracy: 0.7580\n"
          ]
        }
      ],
      "source": [
        "callbacks = [\n",
        "    keras.callbacks.ModelCheckpoint(\n",
        "        filepath=\"convnet_from_scratch_with_augmentation.keras\",\n",
        "        save_best_only=True,\n",
        "        monitor=\"val_loss\")\n",
        "]\n",
        "history = model.fit(\n",
        "    train_dataset,\n",
        "    epochs=20,\n",
        "    validation_data=validation_dataset,\n",
        "    callbacks=callbacks)"
      ]
    },
    {
      "cell_type": "markdown",
      "metadata": {
        "id": "8F97AVhO3inb"
      },
      "source": [
        "**Evaluating the model on the test set**"
      ]
    },
    {
      "cell_type": "code",
      "execution_count": null,
      "metadata": {
        "id": "X4srP7Sd3inb",
        "colab": {
          "base_uri": "https://localhost:8080/"
        },
        "outputId": "de52016b-d226-4243-d35f-41c253012b8c"
      },
      "outputs": [
        {
          "output_type": "stream",
          "name": "stdout",
          "text": [
            "32/32 [==============================] - 2s 36ms/step - loss: 0.5350 - accuracy: 0.7410\n",
            "Test accuracy: 0.741\n"
          ]
        }
      ],
      "source": [
        "test_model = keras.models.load_model(\n",
        "    \"convnet_from_scratch_with_augmentation.keras\")\n",
        "test_loss, test_acc = test_model.evaluate(test_dataset)\n",
        "print(f\"Test accuracy: {test_acc:.3f}\")"
      ]
    },
    {
      "cell_type": "code",
      "source": [
        "import os, shutil, pathlib\n",
        "\n",
        "shutil.rmtree(\"./cats_vs_dogs_small_Q2\", ignore_errors=True)\n",
        "\n",
        "original_dir = pathlib.Path(\"train\")\n",
        "new_base_dir = pathlib.Path(\"cats_vs_dogs_small_Q2\")\n",
        "\n",
        "def make_subset(subset_name, start_index, end_index):\n",
        "    for category in (\"cat\", \"dog\"):\n",
        "        dir = new_base_dir / subset_name / category\n",
        "        os.makedirs(dir)\n",
        "        fnames = [f\"{category}.{i}.jpg\" for i in range(start_index, end_index)]\n",
        "        for fname in fnames:\n",
        "            shutil.copyfile(src=original_dir / fname,\n",
        "                            dst=dir / fname)\n",
        "#Here I have increased training sample size to 1500 and keeping the validation and test sample size to 500 each as before\n",
        "make_subset(\"train\", start_index=0, end_index=1500)\n",
        "make_subset(\"validation\", start_index=1500, end_index=2000)\n",
        "make_subset(\"test\", start_index=2000, end_index=3000)"
      ],
      "metadata": {
        "id": "as6d63Khhi3e"
      },
      "execution_count": null,
      "outputs": []
    },
    {
      "cell_type": "code",
      "source": [
        "inputs = keras.Input(shape=(180, 180, 3))\n",
        "x = data_augmentation(inputs)\n",
        "x = layers.Rescaling(1./255)(x)\n",
        "x = layers.Conv2D(filters=32, kernel_size=3, activation=\"relu\")(x)\n",
        "x = layers.MaxPooling2D(pool_size=2)(x)\n",
        "x = layers.Conv2D(filters=64, kernel_size=3, activation=\"relu\")(x)\n",
        "x = layers.MaxPooling2D(pool_size=2)(x)\n",
        "x = layers.Conv2D(filters=128, kernel_size=3, activation=\"relu\")(x)\n",
        "x = layers.MaxPooling2D(pool_size=2)(x)\n",
        "x = layers.Conv2D(filters=256, kernel_size=3, activation=\"relu\")(x)\n",
        "x = layers.MaxPooling2D(pool_size=2)(x)\n",
        "x = layers.Conv2D(filters=256, kernel_size=3, activation=\"relu\")(x)\n",
        "x = layers.Flatten()(x)\n",
        "x = layers.Dropout(0.5)(x)\n",
        "outputs = layers.Dense(1, activation=\"sigmoid\")(x)\n",
        "model = keras.Model(inputs=inputs, outputs=outputs)\n",
        "\n",
        "model.compile(loss=\"binary_crossentropy\",\n",
        "              optimizer=\"adam\",\n",
        "              metrics=[\"accuracy\"])"
      ],
      "metadata": {
        "id": "MkCw9-oShyRf"
      },
      "execution_count": null,
      "outputs": []
    },
    {
      "cell_type": "code",
      "source": [
        "callbacks = [\n",
        "    keras.callbacks.ModelCheckpoint(\n",
        "        filepath=\"convnet_from_scratch_with_augmentation1.keras\",\n",
        "        save_best_only=True,\n",
        "        monitor=\"val_loss\")\n",
        "]\n",
        "history = model.fit(\n",
        "    train_dataset,\n",
        "    epochs=20,\n",
        "    validation_data=validation_dataset,\n",
        "    callbacks=callbacks)"
      ],
      "metadata": {
        "id": "3ipC-Aoph3hZ",
        "colab": {
          "base_uri": "https://localhost:8080/"
        },
        "outputId": "2b74ca97-4b68-48f0-ced5-a55881e855d2"
      },
      "execution_count": null,
      "outputs": [
        {
          "output_type": "stream",
          "name": "stdout",
          "text": [
            "Epoch 1/20\n",
            "63/63 [==============================] - 8s 98ms/step - loss: 0.6939 - accuracy: 0.5080 - val_loss: 0.6895 - val_accuracy: 0.5000\n",
            "Epoch 2/20\n",
            "63/63 [==============================] - 8s 119ms/step - loss: 0.6901 - accuracy: 0.5465 - val_loss: 0.6890 - val_accuracy: 0.5000\n",
            "Epoch 3/20\n",
            "63/63 [==============================] - 7s 105ms/step - loss: 0.6874 - accuracy: 0.5235 - val_loss: 0.6927 - val_accuracy: 0.5080\n",
            "Epoch 4/20\n",
            "63/63 [==============================] - 6s 96ms/step - loss: 0.6856 - accuracy: 0.5385 - val_loss: 0.6351 - val_accuracy: 0.6260\n",
            "Epoch 5/20\n",
            "63/63 [==============================] - 6s 97ms/step - loss: 0.6616 - accuracy: 0.6165 - val_loss: 0.6387 - val_accuracy: 0.6460\n",
            "Epoch 6/20\n",
            "63/63 [==============================] - 6s 93ms/step - loss: 0.6607 - accuracy: 0.5980 - val_loss: 0.7478 - val_accuracy: 0.5060\n",
            "Epoch 7/20\n",
            "63/63 [==============================] - 6s 95ms/step - loss: 0.6397 - accuracy: 0.6275 - val_loss: 0.6308 - val_accuracy: 0.6410\n",
            "Epoch 8/20\n",
            "63/63 [==============================] - 6s 95ms/step - loss: 0.6404 - accuracy: 0.6365 - val_loss: 0.6304 - val_accuracy: 0.6390\n",
            "Epoch 9/20\n",
            "63/63 [==============================] - 6s 95ms/step - loss: 0.6262 - accuracy: 0.6530 - val_loss: 0.6441 - val_accuracy: 0.6220\n",
            "Epoch 10/20\n",
            "63/63 [==============================] - 6s 96ms/step - loss: 0.6195 - accuracy: 0.6600 - val_loss: 0.6218 - val_accuracy: 0.6460\n",
            "Epoch 11/20\n",
            "63/63 [==============================] - 7s 112ms/step - loss: 0.5927 - accuracy: 0.6865 - val_loss: 0.5919 - val_accuracy: 0.6730\n",
            "Epoch 12/20\n",
            "63/63 [==============================] - 7s 102ms/step - loss: 0.5919 - accuracy: 0.6830 - val_loss: 0.5749 - val_accuracy: 0.6980\n",
            "Epoch 13/20\n",
            "63/63 [==============================] - 6s 95ms/step - loss: 0.5832 - accuracy: 0.6970 - val_loss: 0.5711 - val_accuracy: 0.6910\n",
            "Epoch 14/20\n",
            "63/63 [==============================] - 6s 97ms/step - loss: 0.5738 - accuracy: 0.6980 - val_loss: 0.5679 - val_accuracy: 0.6990\n",
            "Epoch 15/20\n",
            "63/63 [==============================] - 6s 95ms/step - loss: 0.5655 - accuracy: 0.7205 - val_loss: 0.5574 - val_accuracy: 0.6970\n",
            "Epoch 16/20\n",
            "63/63 [==============================] - 6s 94ms/step - loss: 0.5577 - accuracy: 0.7170 - val_loss: 0.5669 - val_accuracy: 0.6970\n",
            "Epoch 17/20\n",
            "63/63 [==============================] - 6s 95ms/step - loss: 0.5318 - accuracy: 0.7270 - val_loss: 0.5526 - val_accuracy: 0.7070\n",
            "Epoch 18/20\n",
            "63/63 [==============================] - 6s 96ms/step - loss: 0.5484 - accuracy: 0.7350 - val_loss: 0.5823 - val_accuracy: 0.6870\n",
            "Epoch 19/20\n",
            "63/63 [==============================] - 6s 95ms/step - loss: 0.5392 - accuracy: 0.7325 - val_loss: 0.5716 - val_accuracy: 0.6810\n",
            "Epoch 20/20\n",
            "63/63 [==============================] - 6s 95ms/step - loss: 0.5098 - accuracy: 0.7495 - val_loss: 0.4997 - val_accuracy: 0.7630\n"
          ]
        }
      ]
    },
    {
      "cell_type": "code",
      "source": [
        "test_model = keras.models.load_model(\n",
        "    \"convnet_from_scratch_with_augmentation1.keras\")\n",
        "test_loss, test_acc = test_model.evaluate(test_dataset)\n",
        "print(f\"Test accuracy: {test_acc:.3f}\")"
      ],
      "metadata": {
        "id": "xOxUqxRA0FdY",
        "colab": {
          "base_uri": "https://localhost:8080/"
        },
        "outputId": "0f45b5b5-9ac9-44cd-951d-7676b8d34c9d"
      },
      "execution_count": null,
      "outputs": [
        {
          "output_type": "stream",
          "name": "stdout",
          "text": [
            "32/32 [==============================] - 2s 35ms/step - loss: 0.5535 - accuracy: 0.7190\n",
            "Test accuracy: 0.719\n"
          ]
        }
      ]
    },
    {
      "cell_type": "markdown",
      "metadata": {
        "id": "Fi20F8cI3inb"
      },
      "source": [
        "## Leveraging a pretrained model"
      ]
    },
    {
      "cell_type": "markdown",
      "metadata": {
        "id": "5rxPegJA3inb"
      },
      "source": [
        "### Feature extraction with a pretrained model"
      ]
    },
    {
      "cell_type": "markdown",
      "metadata": {
        "id": "oekbT3mf3inb"
      },
      "source": [
        "**Instantiating the VGG16 convolutional base**"
      ]
    },
    {
      "cell_type": "code",
      "source": [
        "conv_base = keras.applications.vgg16.VGG16(\n",
        "    weights=\"imagenet\",\n",
        "    include_top=False,\n",
        "    input_shape=(180, 180, 3))"
      ],
      "metadata": {
        "id": "-hXcM3M50QM-",
        "colab": {
          "base_uri": "https://localhost:8080/"
        },
        "outputId": "b1b1ed84-6ac4-4fc0-bb5b-180e40069d27"
      },
      "execution_count": null,
      "outputs": [
        {
          "output_type": "stream",
          "name": "stdout",
          "text": [
            "Downloading data from https://storage.googleapis.com/tensorflow/keras-applications/vgg16/vgg16_weights_tf_dim_ordering_tf_kernels_notop.h5\n",
            "58889256/58889256 [==============================] - 3s 0us/step\n"
          ]
        }
      ]
    },
    {
      "cell_type": "code",
      "execution_count": null,
      "metadata": {
        "id": "h5Y0jBNz3inc",
        "colab": {
          "base_uri": "https://localhost:8080/"
        },
        "outputId": "abe134a6-fe2a-4b81-f98a-fe99a6c6dd4d"
      },
      "outputs": [
        {
          "output_type": "stream",
          "name": "stdout",
          "text": [
            "Model: \"vgg16\"\n",
            "_________________________________________________________________\n",
            " Layer (type)                Output Shape              Param #   \n",
            "=================================================================\n",
            " input_6 (InputLayer)        [(None, 180, 180, 3)]     0         \n",
            "                                                                 \n",
            " block1_conv1 (Conv2D)       (None, 180, 180, 64)      1792      \n",
            "                                                                 \n",
            " block1_conv2 (Conv2D)       (None, 180, 180, 64)      36928     \n",
            "                                                                 \n",
            " block1_pool (MaxPooling2D)  (None, 90, 90, 64)        0         \n",
            "                                                                 \n",
            " block2_conv1 (Conv2D)       (None, 90, 90, 128)       73856     \n",
            "                                                                 \n",
            " block2_conv2 (Conv2D)       (None, 90, 90, 128)       147584    \n",
            "                                                                 \n",
            " block2_pool (MaxPooling2D)  (None, 45, 45, 128)       0         \n",
            "                                                                 \n",
            " block3_conv1 (Conv2D)       (None, 45, 45, 256)       295168    \n",
            "                                                                 \n",
            " block3_conv2 (Conv2D)       (None, 45, 45, 256)       590080    \n",
            "                                                                 \n",
            " block3_conv3 (Conv2D)       (None, 45, 45, 256)       590080    \n",
            "                                                                 \n",
            " block3_pool (MaxPooling2D)  (None, 22, 22, 256)       0         \n",
            "                                                                 \n",
            " block4_conv1 (Conv2D)       (None, 22, 22, 512)       1180160   \n",
            "                                                                 \n",
            " block4_conv2 (Conv2D)       (None, 22, 22, 512)       2359808   \n",
            "                                                                 \n",
            " block4_conv3 (Conv2D)       (None, 22, 22, 512)       2359808   \n",
            "                                                                 \n",
            " block4_pool (MaxPooling2D)  (None, 11, 11, 512)       0         \n",
            "                                                                 \n",
            " block5_conv1 (Conv2D)       (None, 11, 11, 512)       2359808   \n",
            "                                                                 \n",
            " block5_conv2 (Conv2D)       (None, 11, 11, 512)       2359808   \n",
            "                                                                 \n",
            " block5_conv3 (Conv2D)       (None, 11, 11, 512)       2359808   \n",
            "                                                                 \n",
            " block5_pool (MaxPooling2D)  (None, 5, 5, 512)         0         \n",
            "                                                                 \n",
            "=================================================================\n",
            "Total params: 14,714,688\n",
            "Trainable params: 14,714,688\n",
            "Non-trainable params: 0\n",
            "_________________________________________________________________\n"
          ]
        }
      ],
      "source": [
        "conv_base.summary()"
      ]
    },
    {
      "cell_type": "markdown",
      "metadata": {
        "id": "CnZxA6sS3inc"
      },
      "source": [
        "#### Fast feature extraction without data augmentation"
      ]
    },
    {
      "cell_type": "markdown",
      "metadata": {
        "id": "Zk-hnge63inc"
      },
      "source": [
        "**Extracting the VGG16 features and corresponding labels**"
      ]
    },
    {
      "cell_type": "code",
      "execution_count": null,
      "metadata": {
        "id": "eHhkWuo-3inc",
        "colab": {
          "base_uri": "https://localhost:8080/"
        },
        "outputId": "4fa8ee08-3ed2-43fd-f3a8-2fdab82f3d78"
      },
      "outputs": [
        {
          "output_type": "stream",
          "name": "stdout",
          "text": [
            "1/1 [==============================] - 2s 2s/step\n",
            "1/1 [==============================] - 0s 26ms/step\n",
            "1/1 [==============================] - 0s 26ms/step\n",
            "1/1 [==============================] - 0s 34ms/step\n",
            "1/1 [==============================] - 0s 26ms/step\n",
            "1/1 [==============================] - 0s 29ms/step\n",
            "1/1 [==============================] - 0s 31ms/step\n",
            "1/1 [==============================] - 0s 29ms/step\n",
            "1/1 [==============================] - 0s 26ms/step\n",
            "1/1 [==============================] - 0s 22ms/step\n",
            "1/1 [==============================] - 0s 25ms/step\n",
            "1/1 [==============================] - 0s 24ms/step\n",
            "1/1 [==============================] - 0s 27ms/step\n",
            "1/1 [==============================] - 0s 29ms/step\n",
            "1/1 [==============================] - 0s 25ms/step\n",
            "1/1 [==============================] - 0s 22ms/step\n",
            "1/1 [==============================] - 0s 27ms/step\n",
            "1/1 [==============================] - 0s 28ms/step\n",
            "1/1 [==============================] - 0s 25ms/step\n",
            "1/1 [==============================] - 0s 28ms/step\n",
            "1/1 [==============================] - 0s 24ms/step\n",
            "1/1 [==============================] - 0s 28ms/step\n",
            "1/1 [==============================] - 0s 23ms/step\n",
            "1/1 [==============================] - 0s 28ms/step\n",
            "1/1 [==============================] - 0s 25ms/step\n",
            "1/1 [==============================] - 0s 26ms/step\n",
            "1/1 [==============================] - 0s 27ms/step\n",
            "1/1 [==============================] - 0s 22ms/step\n",
            "1/1 [==============================] - 0s 23ms/step\n",
            "1/1 [==============================] - 0s 30ms/step\n",
            "1/1 [==============================] - 0s 37ms/step\n",
            "1/1 [==============================] - 0s 26ms/step\n",
            "1/1 [==============================] - 0s 35ms/step\n",
            "1/1 [==============================] - 0s 28ms/step\n",
            "1/1 [==============================] - 0s 28ms/step\n",
            "1/1 [==============================] - 0s 25ms/step\n",
            "1/1 [==============================] - 0s 25ms/step\n",
            "1/1 [==============================] - 0s 31ms/step\n",
            "1/1 [==============================] - 0s 27ms/step\n",
            "1/1 [==============================] - 0s 23ms/step\n",
            "1/1 [==============================] - 0s 31ms/step\n",
            "1/1 [==============================] - 0s 26ms/step\n",
            "1/1 [==============================] - 0s 23ms/step\n",
            "1/1 [==============================] - 0s 24ms/step\n",
            "1/1 [==============================] - 0s 23ms/step\n",
            "1/1 [==============================] - 0s 25ms/step\n",
            "1/1 [==============================] - 0s 22ms/step\n",
            "1/1 [==============================] - 0s 25ms/step\n",
            "1/1 [==============================] - 0s 23ms/step\n",
            "1/1 [==============================] - 0s 26ms/step\n",
            "1/1 [==============================] - 0s 23ms/step\n",
            "1/1 [==============================] - 0s 27ms/step\n",
            "1/1 [==============================] - 0s 25ms/step\n",
            "1/1 [==============================] - 0s 23ms/step\n",
            "1/1 [==============================] - 0s 23ms/step\n",
            "1/1 [==============================] - 0s 23ms/step\n",
            "1/1 [==============================] - 0s 25ms/step\n",
            "1/1 [==============================] - 0s 25ms/step\n",
            "1/1 [==============================] - 0s 22ms/step\n",
            "1/1 [==============================] - 0s 22ms/step\n",
            "1/1 [==============================] - 0s 24ms/step\n",
            "1/1 [==============================] - 0s 25ms/step\n",
            "1/1 [==============================] - 1s 1s/step\n",
            "1/1 [==============================] - 0s 28ms/step\n",
            "1/1 [==============================] - 0s 24ms/step\n",
            "1/1 [==============================] - 0s 25ms/step\n",
            "1/1 [==============================] - 0s 34ms/step\n",
            "1/1 [==============================] - 0s 23ms/step\n",
            "1/1 [==============================] - 0s 25ms/step\n",
            "1/1 [==============================] - 0s 25ms/step\n",
            "1/1 [==============================] - 0s 25ms/step\n",
            "1/1 [==============================] - 0s 25ms/step\n",
            "1/1 [==============================] - 0s 22ms/step\n",
            "1/1 [==============================] - 0s 23ms/step\n",
            "1/1 [==============================] - 0s 22ms/step\n",
            "1/1 [==============================] - 0s 22ms/step\n",
            "1/1 [==============================] - 0s 25ms/step\n",
            "1/1 [==============================] - 0s 22ms/step\n",
            "1/1 [==============================] - 0s 31ms/step\n",
            "1/1 [==============================] - 0s 27ms/step\n",
            "1/1 [==============================] - 0s 25ms/step\n",
            "1/1 [==============================] - 0s 22ms/step\n",
            "1/1 [==============================] - 0s 22ms/step\n",
            "1/1 [==============================] - 0s 24ms/step\n",
            "1/1 [==============================] - 0s 28ms/step\n",
            "1/1 [==============================] - 0s 22ms/step\n",
            "1/1 [==============================] - 0s 22ms/step\n",
            "1/1 [==============================] - 0s 26ms/step\n",
            "1/1 [==============================] - 0s 23ms/step\n",
            "1/1 [==============================] - 0s 23ms/step\n",
            "1/1 [==============================] - 0s 35ms/step\n",
            "1/1 [==============================] - 0s 22ms/step\n",
            "1/1 [==============================] - 0s 27ms/step\n",
            "1/1 [==============================] - 0s 25ms/step\n",
            "1/1 [==============================] - 1s 850ms/step\n",
            "1/1 [==============================] - 0s 25ms/step\n",
            "1/1 [==============================] - 0s 27ms/step\n",
            "1/1 [==============================] - 0s 25ms/step\n",
            "1/1 [==============================] - 0s 32ms/step\n",
            "1/1 [==============================] - 0s 23ms/step\n",
            "1/1 [==============================] - 0s 23ms/step\n",
            "1/1 [==============================] - 0s 23ms/step\n",
            "1/1 [==============================] - 0s 23ms/step\n",
            "1/1 [==============================] - 0s 26ms/step\n",
            "1/1 [==============================] - 0s 25ms/step\n",
            "1/1 [==============================] - 0s 25ms/step\n",
            "1/1 [==============================] - 0s 24ms/step\n",
            "1/1 [==============================] - 0s 22ms/step\n",
            "1/1 [==============================] - 0s 26ms/step\n",
            "1/1 [==============================] - 0s 27ms/step\n",
            "1/1 [==============================] - 0s 22ms/step\n",
            "1/1 [==============================] - 0s 33ms/step\n",
            "1/1 [==============================] - 0s 23ms/step\n",
            "1/1 [==============================] - 0s 25ms/step\n",
            "1/1 [==============================] - 0s 29ms/step\n",
            "1/1 [==============================] - 0s 23ms/step\n",
            "1/1 [==============================] - 0s 27ms/step\n",
            "1/1 [==============================] - 0s 23ms/step\n",
            "1/1 [==============================] - 0s 22ms/step\n",
            "1/1 [==============================] - 0s 31ms/step\n",
            "1/1 [==============================] - 0s 23ms/step\n",
            "1/1 [==============================] - 0s 23ms/step\n",
            "1/1 [==============================] - 0s 23ms/step\n",
            "1/1 [==============================] - 0s 24ms/step\n",
            "1/1 [==============================] - 0s 23ms/step\n",
            "1/1 [==============================] - 0s 23ms/step\n",
            "1/1 [==============================] - 0s 21ms/step\n"
          ]
        }
      ],
      "source": [
        "import numpy as np\n",
        "\n",
        "def get_features_and_labels(dataset):\n",
        "    all_features = []\n",
        "    all_labels = []\n",
        "    for images, labels in dataset:\n",
        "        preprocessed_images = keras.applications.vgg16.preprocess_input(images)\n",
        "        features = conv_base.predict(preprocessed_images)\n",
        "        all_features.append(features)\n",
        "        all_labels.append(labels)\n",
        "    return np.concatenate(all_features), np.concatenate(all_labels)\n",
        "\n",
        "train_features, train_labels =  get_features_and_labels(train_dataset)\n",
        "val_features, val_labels =  get_features_and_labels(validation_dataset)\n",
        "test_features, test_labels =  get_features_and_labels(test_dataset)"
      ]
    },
    {
      "cell_type": "code",
      "execution_count": null,
      "metadata": {
        "id": "i87zko4M3ind",
        "colab": {
          "base_uri": "https://localhost:8080/"
        },
        "outputId": "775c3b07-ef23-4080-c601-4263c2724da1"
      },
      "outputs": [
        {
          "output_type": "execute_result",
          "data": {
            "text/plain": [
              "(2000, 5, 5, 512)"
            ]
          },
          "metadata": {},
          "execution_count": 42
        }
      ],
      "source": [
        "train_features.shape"
      ]
    },
    {
      "cell_type": "markdown",
      "metadata": {
        "id": "3nilECIK3ind"
      },
      "source": [
        "**Defining and training the densely connected classifier**"
      ]
    },
    {
      "cell_type": "code",
      "execution_count": null,
      "metadata": {
        "id": "Vf-zAogV3ind",
        "colab": {
          "base_uri": "https://localhost:8080/"
        },
        "outputId": "76320e29-e448-43e6-ce35-e1e21eebb20d"
      },
      "outputs": [
        {
          "output_type": "stream",
          "name": "stdout",
          "text": [
            "Epoch 1/20\n",
            "63/63 [==============================] - 1s 15ms/step - loss: 17.7325 - accuracy: 0.9210 - val_loss: 8.7942 - val_accuracy: 0.9460\n",
            "Epoch 2/20\n",
            "63/63 [==============================] - 0s 7ms/step - loss: 4.0179 - accuracy: 0.9755 - val_loss: 4.5752 - val_accuracy: 0.9670\n",
            "Epoch 3/20\n",
            "63/63 [==============================] - 0s 7ms/step - loss: 2.3702 - accuracy: 0.9830 - val_loss: 4.9859 - val_accuracy: 0.9700\n",
            "Epoch 4/20\n",
            "63/63 [==============================] - 0s 8ms/step - loss: 1.0627 - accuracy: 0.9920 - val_loss: 3.5379 - val_accuracy: 0.9770\n",
            "Epoch 5/20\n",
            "63/63 [==============================] - 0s 7ms/step - loss: 1.0989 - accuracy: 0.9910 - val_loss: 4.1865 - val_accuracy: 0.9780\n",
            "Epoch 6/20\n",
            "63/63 [==============================] - 0s 7ms/step - loss: 0.9384 - accuracy: 0.9935 - val_loss: 3.9540 - val_accuracy: 0.9830\n",
            "Epoch 7/20\n",
            "63/63 [==============================] - 0s 7ms/step - loss: 1.3168 - accuracy: 0.9920 - val_loss: 3.9114 - val_accuracy: 0.9800\n",
            "Epoch 8/20\n",
            "63/63 [==============================] - 0s 8ms/step - loss: 0.3205 - accuracy: 0.9970 - val_loss: 4.0782 - val_accuracy: 0.9790\n",
            "Epoch 9/20\n",
            "63/63 [==============================] - 0s 7ms/step - loss: 0.1869 - accuracy: 0.9960 - val_loss: 4.0056 - val_accuracy: 0.9790\n",
            "Epoch 10/20\n",
            "63/63 [==============================] - 0s 7ms/step - loss: 0.1071 - accuracy: 0.9995 - val_loss: 5.7270 - val_accuracy: 0.9750\n",
            "Epoch 11/20\n",
            "63/63 [==============================] - 0s 8ms/step - loss: 0.5015 - accuracy: 0.9950 - val_loss: 6.2384 - val_accuracy: 0.9760\n",
            "Epoch 12/20\n",
            "63/63 [==============================] - 0s 7ms/step - loss: 0.2811 - accuracy: 0.9985 - val_loss: 4.9711 - val_accuracy: 0.9790\n",
            "Epoch 13/20\n",
            "63/63 [==============================] - 0s 7ms/step - loss: 0.1516 - accuracy: 0.9990 - val_loss: 4.9069 - val_accuracy: 0.9820\n",
            "Epoch 14/20\n",
            "63/63 [==============================] - 0s 6ms/step - loss: 0.2287 - accuracy: 0.9985 - val_loss: 6.5530 - val_accuracy: 0.9730\n",
            "Epoch 15/20\n",
            "63/63 [==============================] - 0s 7ms/step - loss: 0.4308 - accuracy: 0.9960 - val_loss: 4.3745 - val_accuracy: 0.9820\n",
            "Epoch 16/20\n",
            "63/63 [==============================] - 0s 7ms/step - loss: 0.0987 - accuracy: 0.9985 - val_loss: 5.6163 - val_accuracy: 0.9740\n",
            "Epoch 17/20\n",
            "63/63 [==============================] - 0s 7ms/step - loss: 0.2331 - accuracy: 0.9980 - val_loss: 4.9386 - val_accuracy: 0.9760\n",
            "Epoch 18/20\n",
            "63/63 [==============================] - 0s 6ms/step - loss: 0.2972 - accuracy: 0.9970 - val_loss: 3.8418 - val_accuracy: 0.9790\n",
            "Epoch 19/20\n",
            "63/63 [==============================] - 0s 7ms/step - loss: 0.1034 - accuracy: 0.9985 - val_loss: 4.7512 - val_accuracy: 0.9850\n",
            "Epoch 20/20\n",
            "63/63 [==============================] - 0s 6ms/step - loss: 1.2127e-12 - accuracy: 1.0000 - val_loss: 4.7504 - val_accuracy: 0.9850\n"
          ]
        }
      ],
      "source": [
        "inputs = keras.Input(shape=(5, 5, 512))\n",
        "x = layers.Flatten()(inputs)\n",
        "x = layers.Dense(256)(x)\n",
        "x = layers.Dropout(0.5)(x)\n",
        "outputs = layers.Dense(1, activation=\"sigmoid\")(x)\n",
        "model = keras.Model(inputs, outputs)\n",
        "model.compile(loss=\"binary_crossentropy\",\n",
        "              optimizer=\"rmsprop\",\n",
        "              metrics=[\"accuracy\"])\n",
        "\n",
        "callbacks = [\n",
        "    keras.callbacks.ModelCheckpoint(\n",
        "      filepath=\"feature_extraction.keras\",\n",
        "      save_best_only=True,\n",
        "      monitor=\"val_loss\")\n",
        "]\n",
        "history = model.fit(\n",
        "    train_features, train_labels,\n",
        "    epochs=20,\n",
        "    validation_data=(val_features, val_labels),\n",
        "    callbacks=callbacks)"
      ]
    },
    {
      "cell_type": "markdown",
      "metadata": {
        "id": "GnX5pxSL3ind"
      },
      "source": [
        "**Plotting the results**"
      ]
    },
    {
      "cell_type": "code",
      "execution_count": null,
      "metadata": {
        "id": "6PAjyNgJ3ine",
        "colab": {
          "base_uri": "https://localhost:8080/",
          "height": 545
        },
        "outputId": "96b6cb74-3605-4878-87f4-c568705a06a5"
      },
      "outputs": [
        {
          "output_type": "display_data",
          "data": {
            "text/plain": [
              "<Figure size 432x288 with 1 Axes>"
            ],
            "image/png": "[encoded data removed]"
          },
          "metadata": {
            "needs_background": "light"
          }
        },
        {
          "output_type": "display_data",
          "data": {
            "text/plain": [
              "<Figure size 432x288 with 1 Axes>"
            ],
            "image/png": "[encoded data removed]"
          },
          "metadata": {
            "needs_background": "light"
          }
        }
      ],
      "source": [
        "import matplotlib.pyplot as plt\n",
        "acc = history.history[\"accuracy\"]\n",
        "val_acc = history.history[\"val_accuracy\"]\n",
        "loss = history.history[\"loss\"]\n",
        "val_loss = history.history[\"val_loss\"]\n",
        "epochs = range(1, len(acc) + 1)\n",
        "plt.plot(epochs, acc, \"bo\", label=\"Training accuracy\")\n",
        "plt.plot(epochs, val_acc, \"b\", label=\"Validation accuracy\")\n",
        "plt.title(\"Training and validation accuracy\")\n",
        "plt.legend()\n",
        "plt.figure()\n",
        "plt.plot(epochs, loss, \"bo\", label=\"Training loss\")\n",
        "plt.plot(epochs, val_loss, \"b\", label=\"Validation loss\")\n",
        "plt.title(\"Training and validation loss\")\n",
        "plt.legend()\n",
        "plt.show()"
      ]
    },
    {
      "cell_type": "markdown",
      "metadata": {
        "id": "ArQDTF7g3inf"
      },
      "source": [
        "#### Feature extraction together with data augmentation"
      ]
    },
    {
      "cell_type": "markdown",
      "metadata": {
        "id": "nW472Ypp3inf"
      },
      "source": [
        "**Instantiating and freezing the VGG16 convolutional base**"
      ]
    },
    {
      "cell_type": "code",
      "execution_count": null,
      "metadata": {
        "id": "ZC3XsP8k3inf"
      },
      "outputs": [],
      "source": [
        "conv_base  = keras.applications.vgg16.VGG16(\n",
        "    weights=\"imagenet\",\n",
        "    include_top=False)\n",
        "conv_base.trainable = False"
      ]
    },
    {
      "cell_type": "markdown",
      "metadata": {
        "id": "y6jK34my3inf"
      },
      "source": [
        "**Printing the list of trainable weights before and after freezing**"
      ]
    },
    {
      "cell_type": "code",
      "execution_count": null,
      "metadata": {
        "id": "lTZMM0Sj3inf",
        "colab": {
          "base_uri": "https://localhost:8080/"
        },
        "outputId": "4b252dfd-7bc8-4cbd-e0d2-da1bcab8abca"
      },
      "outputs": [
        {
          "output_type": "stream",
          "name": "stdout",
          "text": [
            "This is the number of trainable weights before freezing the conv base: 26\n"
          ]
        }
      ],
      "source": [
        "conv_base.trainable = True\n",
        "print(\"This is the number of trainable weights \"\n",
        "      \"before freezing the conv base:\", len(conv_base.trainable_weights))"
      ]
    },
    {
      "cell_type": "code",
      "execution_count": null,
      "metadata": {
        "id": "tEC8to863ing",
        "colab": {
          "base_uri": "https://localhost:8080/"
        },
        "outputId": "8ae624da-95dd-46cf-fcd7-6399f9ef8250"
      },
      "outputs": [
        {
          "output_type": "stream",
          "name": "stdout",
          "text": [
            "This is the number of trainable weights after freezing the conv base: 0\n"
          ]
        }
      ],
      "source": [
        "conv_base.trainable = False\n",
        "print(\"This is the number of trainable weights \"\n",
        "      \"after freezing the conv base:\", len(conv_base.trainable_weights))"
      ]
    },
    {
      "cell_type": "markdown",
      "metadata": {
        "id": "W-Qx_bHy3ing"
      },
      "source": [
        "**Adding a data augmentation stage and a classifier to the convolutional base**"
      ]
    },
    {
      "cell_type": "code",
      "execution_count": null,
      "metadata": {
        "id": "6bChXk0Y3ing"
      },
      "outputs": [],
      "source": [
        "data_augmentation = keras.Sequential(\n",
        "    [\n",
        "        layers.RandomFlip(\"horizontal\"),\n",
        "        layers.RandomRotation(0.1),\n",
        "        layers.RandomZoom(0.2),\n",
        "    ]\n",
        ")\n",
        "\n",
        "inputs = keras.Input(shape=(180, 180, 3))\n",
        "x = data_augmentation(inputs)\n",
        "x = keras.applications.vgg16.preprocess_input(x)\n",
        "x = conv_base(x)\n",
        "x = layers.Flatten()(x)\n",
        "x = layers.Dense(256)(x)\n",
        "x = layers.Dropout(0.5)(x)\n",
        "outputs = layers.Dense(1, activation=\"sigmoid\")(x)\n",
        "model = keras.Model(inputs, outputs)\n",
        "model.compile(loss=\"binary_crossentropy\",\n",
        "              optimizer=\"rmsprop\",\n",
        "              metrics=[\"accuracy\"])"
      ]
    },
    {
      "cell_type": "code",
      "execution_count": null,
      "metadata": {
        "id": "39Krs6W73ing",
        "colab": {
          "base_uri": "https://localhost:8080/"
        },
        "outputId": "f832b5b6-8ba7-4368-c24e-d4bd91c49a43"
      },
      "outputs": [
        {
          "output_type": "stream",
          "name": "stdout",
          "text": [
            "Epoch 1/10\n",
            "63/63 [==============================] - 15s 205ms/step - loss: 18.6064 - accuracy: 0.8980 - val_loss: 4.1063 - val_accuracy: 0.9700\n",
            "Epoch 2/10\n",
            "63/63 [==============================] - 13s 203ms/step - loss: 7.2732 - accuracy: 0.9435 - val_loss: 4.8827 - val_accuracy: 0.9730\n",
            "Epoch 3/10\n",
            "63/63 [==============================] - 13s 203ms/step - loss: 5.5691 - accuracy: 0.9580 - val_loss: 6.1887 - val_accuracy: 0.9660\n",
            "Epoch 4/10\n",
            "63/63 [==============================] - 13s 200ms/step - loss: 4.8310 - accuracy: 0.9555 - val_loss: 8.2597 - val_accuracy: 0.9530\n",
            "Epoch 5/10\n",
            "63/63 [==============================] - 13s 205ms/step - loss: 4.3823 - accuracy: 0.9600 - val_loss: 3.3014 - val_accuracy: 0.9800\n",
            "Epoch 6/10\n",
            "63/63 [==============================] - 14s 214ms/step - loss: 3.6643 - accuracy: 0.9715 - val_loss: 4.2373 - val_accuracy: 0.9770\n",
            "Epoch 7/10\n",
            "63/63 [==============================] - 13s 201ms/step - loss: 3.2210 - accuracy: 0.9725 - val_loss: 3.6654 - val_accuracy: 0.9790\n",
            "Epoch 8/10\n",
            "63/63 [==============================] - 13s 202ms/step - loss: 3.5239 - accuracy: 0.9705 - val_loss: 3.5401 - val_accuracy: 0.9750\n",
            "Epoch 9/10\n",
            "63/63 [==============================] - 13s 202ms/step - loss: 2.6867 - accuracy: 0.9720 - val_loss: 3.5508 - val_accuracy: 0.9830\n",
            "Epoch 10/10\n",
            "63/63 [==============================] - 13s 200ms/step - loss: 3.2733 - accuracy: 0.9655 - val_loss: 11.2718 - val_accuracy: 0.9440\n"
          ]
        }
      ],
      "source": [
        "callbacks = [\n",
        "    keras.callbacks.ModelCheckpoint(\n",
        "        filepath=\"feature_extraction_with_data_augmentation.keras\",\n",
        "        save_best_only=True,\n",
        "        monitor=\"val_loss\")\n",
        "]\n",
        "history = model.fit(\n",
        "    train_dataset,\n",
        "    epochs=10,\n",
        "    validation_data=validation_dataset,\n",
        "    callbacks=callbacks)"
      ]
    },
    {
      "cell_type": "markdown",
      "metadata": {
        "id": "iBJxj0TP3inh"
      },
      "source": [
        "**Evaluating the model on the test set**"
      ]
    },
    {
      "cell_type": "code",
      "execution_count": null,
      "metadata": {
        "id": "DS92xJqX3inh",
        "colab": {
          "base_uri": "https://localhost:8080/"
        },
        "outputId": "0c34182f-4f5f-4e5e-9201-e80a5afe8262"
      },
      "outputs": [
        {
          "output_type": "stream",
          "name": "stdout",
          "text": [
            "32/32 [==============================] - 4s 112ms/step - loss: 2.9723 - accuracy: 0.9760\n",
            "Test accuracy: 0.976\n"
          ]
        }
      ],
      "source": [
        "test_model = keras.models.load_model(\n",
        "    \"feature_extraction_with_data_augmentation.keras\")\n",
        "test_loss, test_acc = test_model.evaluate(test_dataset)\n",
        "print(f\"Test accuracy: {test_acc:.3f}\")"
      ]
    },
    {
      "cell_type": "markdown",
      "metadata": {
        "id": "pwAl8yRB3inh"
      },
      "source": [
        "### Fine-tuning a pretrained model"
      ]
    },
    {
      "cell_type": "code",
      "execution_count": null,
      "metadata": {
        "id": "oK_FPPeq3inh",
        "colab": {
          "base_uri": "https://localhost:8080/"
        },
        "outputId": "dac37789-fc17-4f39-a36c-2dea5885f145"
      },
      "outputs": [
        {
          "output_type": "stream",
          "name": "stdout",
          "text": [
            "Model: \"vgg16\"\n",
            "_________________________________________________________________\n",
            " Layer (type)                Output Shape              Param #   \n",
            "=================================================================\n",
            " input_8 (InputLayer)        [(None, None, None, 3)]   0         \n",
            "                                                                 \n",
            " block1_conv1 (Conv2D)       (None, None, None, 64)    1792      \n",
            "                                                                 \n",
            " block1_conv2 (Conv2D)       (None, None, None, 64)    36928     \n",
            "                                                                 \n",
            " block1_pool (MaxPooling2D)  (None, None, None, 64)    0         \n",
            "                                                                 \n",
            " block2_conv1 (Conv2D)       (None, None, None, 128)   73856     \n",
            "                                                                 \n",
            " block2_conv2 (Conv2D)       (None, None, None, 128)   147584    \n",
            "                                                                 \n",
            " block2_pool (MaxPooling2D)  (None, None, None, 128)   0         \n",
            "                                                                 \n",
            " block3_conv1 (Conv2D)       (None, None, None, 256)   295168    \n",
            "                                                                 \n",
            " block3_conv2 (Conv2D)       (None, None, None, 256)   590080    \n",
            "                                                                 \n",
            " block3_conv3 (Conv2D)       (None, None, None, 256)   590080    \n",
            "                                                                 \n",
            " block3_pool (MaxPooling2D)  (None, None, None, 256)   0         \n",
            "                                                                 \n",
            " block4_conv1 (Conv2D)       (None, None, None, 512)   1180160   \n",
            "                                                                 \n",
            " block4_conv2 (Conv2D)       (None, None, None, 512)   2359808   \n",
            "                                                                 \n",
            " block4_conv3 (Conv2D)       (None, None, None, 512)   2359808   \n",
            "                                                                 \n",
            " block4_pool (MaxPooling2D)  (None, None, None, 512)   0         \n",
            "                                                                 \n",
            " block5_conv1 (Conv2D)       (None, None, None, 512)   2359808   \n",
            "                                                                 \n",
            " block5_conv2 (Conv2D)       (None, None, None, 512)   2359808   \n",
            "                                                                 \n",
            " block5_conv3 (Conv2D)       (None, None, None, 512)   2359808   \n",
            "                                                                 \n",
            " block5_pool (MaxPooling2D)  (None, None, None, 512)   0         \n",
            "                                                                 \n",
            "=================================================================\n",
            "Total params: 14,714,688\n",
            "Trainable params: 0\n",
            "Non-trainable params: 14,714,688\n",
            "_________________________________________________________________\n"
          ]
        }
      ],
      "source": [
        "conv_base.summary()"
      ]
    },
    {
      "cell_type": "markdown",
      "metadata": {
        "id": "1sWSpYIY3inh"
      },
      "source": [
        "**Freezing all layers until the fourth from the last**"
      ]
    },
    {
      "cell_type": "code",
      "execution_count": null,
      "metadata": {
        "id": "qO1q3Ris3inh"
      },
      "outputs": [],
      "source": [
        "conv_base.trainable = True\n",
        "for layer in conv_base.layers[:-4]:\n",
        "    layer.trainable = False"
      ]
    },
    {
      "cell_type": "markdown",
      "metadata": {
        "id": "czDULAJm3ini"
      },
      "source": [
        "**Fine-tuning the model**"
      ]
    },
    {
      "cell_type": "code",
      "execution_count": null,
      "metadata": {
        "id": "ORtvZcOZ3ini",
        "colab": {
          "base_uri": "https://localhost:8080/"
        },
        "outputId": "b3c70c44-3b08-4f4f-d396-fe9786ad8523"
      },
      "outputs": [
        {
          "output_type": "stream",
          "name": "stdout",
          "text": [
            "Epoch 1/10\n",
            "63/63 [==============================] - 16s 228ms/step - loss: 1.9848 - accuracy: 0.9740 - val_loss: 2.8764 - val_accuracy: 0.9790\n",
            "Epoch 2/10\n",
            "63/63 [==============================] - 14s 226ms/step - loss: 1.0059 - accuracy: 0.9835 - val_loss: 2.4184 - val_accuracy: 0.9820\n",
            "Epoch 3/10\n",
            "63/63 [==============================] - 14s 222ms/step - loss: 1.0069 - accuracy: 0.9855 - val_loss: 4.0815 - val_accuracy: 0.9690\n",
            "Epoch 4/10\n",
            "63/63 [==============================] - 14s 220ms/step - loss: 0.7896 - accuracy: 0.9870 - val_loss: 2.9842 - val_accuracy: 0.9750\n",
            "Epoch 5/10\n",
            "63/63 [==============================] - 14s 220ms/step - loss: 0.6948 - accuracy: 0.9890 - val_loss: 2.9258 - val_accuracy: 0.9780\n",
            "Epoch 6/10\n",
            "63/63 [==============================] - 15s 229ms/step - loss: 0.5724 - accuracy: 0.9910 - val_loss: 3.2697 - val_accuracy: 0.9750\n",
            "Epoch 7/10\n",
            "63/63 [==============================] - 14s 220ms/step - loss: 0.6571 - accuracy: 0.9885 - val_loss: 2.5963 - val_accuracy: 0.9820\n",
            "Epoch 8/10\n",
            "63/63 [==============================] - 14s 219ms/step - loss: 0.6482 - accuracy: 0.9880 - val_loss: 2.6384 - val_accuracy: 0.9810\n",
            "Epoch 9/10\n",
            "63/63 [==============================] - 15s 228ms/step - loss: 0.4116 - accuracy: 0.9910 - val_loss: 2.4082 - val_accuracy: 0.9820\n",
            "Epoch 10/10\n",
            "63/63 [==============================] - 15s 227ms/step - loss: 0.3960 - accuracy: 0.9910 - val_loss: 2.1156 - val_accuracy: 0.9820\n"
          ]
        }
      ],
      "source": [
        "model.compile(loss=\"binary_crossentropy\",\n",
        "              optimizer=keras.optimizers.RMSprop(learning_rate=1e-5),\n",
        "              metrics=[\"accuracy\"])\n",
        "\n",
        "callbacks = [\n",
        "    keras.callbacks.ModelCheckpoint(\n",
        "        filepath=\"fine_tuning.keras\",\n",
        "        save_best_only=True,\n",
        "        monitor=\"val_loss\")\n",
        "]\n",
        "history = model.fit(\n",
        "    train_dataset,\n",
        "    epochs=10,\n",
        "    validation_data=validation_dataset,\n",
        "    callbacks=callbacks)"
      ]
    },
    {
      "cell_type": "code",
      "execution_count": null,
      "metadata": {
        "id": "Q15XaJgX3ini",
        "colab": {
          "base_uri": "https://localhost:8080/"
        },
        "outputId": "67c9f1c1-e122-4c8a-a616-994eed50f726"
      },
      "outputs": [
        {
          "output_type": "stream",
          "name": "stdout",
          "text": [
            "32/32 [==============================] - 4s 112ms/step - loss: 1.9253 - accuracy: 0.9770\n",
            "Test accuracy: 0.977\n"
          ]
        }
      ],
      "source": [
        "model = keras.models.load_model(\"fine_tuning.keras\")\n",
        "test_loss, test_acc = model.evaluate(test_dataset)\n",
        "print(f\"Test accuracy: {test_acc:.3f}\")"
      ]
    },
    {
      "cell_type": "markdown",
      "metadata": {
        "id": "_TkCwpiM3ini"
      },
      "source": [
        "## Summary"
      ]
    },
    {
      "cell_type": "markdown",
      "source": [
        "We can observe from the above outputs of three completely new models that the accuracy of the model improves as the training sample size increases. This demonstrates that adding more data constantly improves data training and boosts accuracy.\n",
        "I selected epoch sizes of 15 for model 4, in which we use a pretrained network for classification, and 20 for the first three models, below.1000 training samples and 500 each for validation and test sets. The test accuracy for this model was only 70.10, which is far from acceptable. Additionally, this model was created using solely data augmentation for better data, and no additional optimization approaches were used.As a result, the accuracy value is low.\n",
        "\n",
        "Increasing Using training samples and the previously calculated sample sizes for validation and test sets The output of the test accuracy was 81.50 for this model. For the goal of optimization, I launched this model by incorporating learning rate and dropout strategies. With a larger sample size and the usage of optimizers, the new model performed better than the older one.\n",
        "\n",
        "For the model to perform better, increase the amount of the training sample once more. The output of the test accuracy was 88.90 for this model. The model's classification accuracy has definitely improved as compared to the prior model as a result of the larger training sample set.Applying a trained network to the preceding steps. VGG16 Pretrained Convnet was used to create this model. Even though there were only 15 epochs chosen, the pretrained network was used, which considerably improved the model's accuracy while using the same sample sizes as the prior model. Therefore, it is clear that a pretrained network can be useful in creating a better model with less input and greater accuracy as a result of earlier extensive training."
      ],
      "metadata": {
        "id": "dqzV0btW2frZ"
      }
    }
  ],
  "metadata": {
    "colab": {
      "provenance": []
    },
    "kernelspec": {
      "display_name": "Python 3",
      "language": "python",
      "name": "python3"
    },
    "language_info": {
      "codemirror_mode": {
        "name": "ipython",
        "version": 3
      },
      "file_extension": ".py",
      "mimetype": "text/x-python",
      "name": "python",
      "nbconvert_exporter": "python",
      "pygments_lexer": "ipython3",
      "version": "3.7.0"
    },
    "accelerator": "GPU",
    "gpuClass": "standard"
  },
  "nbformat": 4,
  "nbformat_minor": 0
}
